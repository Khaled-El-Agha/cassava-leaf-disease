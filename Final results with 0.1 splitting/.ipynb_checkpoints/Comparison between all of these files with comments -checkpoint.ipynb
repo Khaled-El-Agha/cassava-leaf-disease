{
 "cells": [
  {
   "cell_type": "code",
   "execution_count": null,
   "metadata": {
    "_cell_guid": "b1076dfc-b9ad-4769-8c92-a6c4dae69d19",
    "_uuid": "8f2839f25d086af736a60e9eeb907d3b93b6e0e5"
   },
   "outputs": [],
   "source": [
    "# This Python 3 environment comes with many helpful analytics libraries installed\n",
    "# It is defined by the kaggle/python Docker image: https://github.com/kaggle/docker-python\n",
    "# For example, here's several helpful packages to load\n",
    "\n",
    "import numpy as np # linear algebra\n",
    "import pandas as pd # data processing, CSV file I/O (e.g. pd.read_csv)\n",
    "\n",
    "# Input data files are available in the read-only \"../input/\" directory\n",
    "# For example, running this (by clicking run or pressing Shift+Enter) will list all files under the input directory\n",
    "\n",
    "import os\n",
    "for dirname, _, filenames in os.walk('/kaggle/input'):\n",
    "    for filename in filenames:\n",
    "        print(os.path.join(dirname, filename))\n",
    "\n",
    "# You can write up to 20GB to the current directory (/kaggle/working/) that gets preserved as output when you create a version using \"Save & Run All\" \n",
    "# You can also write temporary files to /kaggle/temp/, but they won't be saved outside of the current session"
   ]
  },
  {
   "cell_type": "markdown",
   "metadata": {},
   "source": [
    "# Set up environment"
   ]
  },
  {
   "cell_type": "code",
   "execution_count": null,
   "metadata": {},
   "outputs": [],
   "source": [
    "# Just delete the output of loading the files because it was very big\n",
    "\n",
    "import math, re, os\n",
    "import tensorflow as tf\n",
    "import numpy as np\n",
    "import pandas as pd\n",
    "import matplotlib.pyplot as plt\n",
    "from kaggle_datasets import KaggleDatasets\n",
    "from tensorflow import keras\n",
    "from functools import partial\n",
    "from sklearn.model_selection import train_test_split\n",
    "from keras.preprocessing.image import ImageDataGenerator\n",
    "\n",
    "##import tensorflow.keras.backend as K\n",
    "\n",
    "from keras.models import Sequential\n",
    "from keras.layers import Dropout, Flatten, Dense, Conv2D, MaxPooling2D, BatchNormalization, MaxPool2D\n",
    "from keras.optimizers import SGD\n",
    "import keras\n",
    "\n",
    "import h5py\n",
    "\n",
    "from keras.callbacks import ModelCheckpoint\n",
    "\n",
    "from keras import metrics\n",
    "\n",
    "\n",
    "print(\"Tensorflow version \" + tf.__version__)"
   ]
  },
  {
   "cell_type": "markdown",
   "metadata": {},
   "source": [
    "# Detect TPU\n",
    "What we're doing with our code here is making sure that we'll be sending our data across a TPU. What you're looking for is a printout of `Number of replicas: 8`, corresponding to the 8 cores of a TPU. If your printout instead says `Number of replicas: 1` you likely do not have TPUs enabled in your notebook.   \n"
   ]
  },
  {
   "cell_type": "code",
   "execution_count": 3,
   "metadata": {},
   "outputs": [
    {
     "name": "stdout",
     "output_type": "stream",
     "text": [
      "Device: grpc://10.0.0.2:8470\n",
      "Number of replicas: 8\n"
     ]
    }
   ],
   "source": [
    "try:\n",
    "    tpu = tf.distribute.cluster_resolver.TPUClusterResolver()\n",
    "    print('Device:', tpu.master())\n",
    "    tf.config.experimental_connect_to_cluster(tpu)\n",
    "    tf.tpu.experimental.initialize_tpu_system(tpu)\n",
    "    strategy = tf.distribute.experimental.TPUStrategy(tpu)\n",
    "except:\n",
    "    strategy = tf.distribute.get_strategy()\n",
    "print('Number of replicas:', strategy.num_replicas_in_sync)"
   ]
  },
  {
   "cell_type": "markdown",
   "metadata": {},
   "source": [
    "# Set up variables\n",
    "We'll set up some of our variables for our notebook here. \n",
    "\n"
   ]
  },
  {
   "cell_type": "code",
   "execution_count": 4,
   "metadata": {},
   "outputs": [],
   "source": [
    "AUTOTUNE = tf.data.experimental.AUTOTUNE\n",
    "GCS_PATH = KaggleDatasets().get_gcs_path('cassava-leaf-disease-classification')     \n",
    "\n",
    "##../input/cassava-leaf-disease-classification\n",
    "\n",
    "BATCH_SIZE = 16 * strategy.num_replicas_in_sync\n",
    "IMAGE_SIZE = [512, 512]\n",
    "CLASSES = ['0', '1', '2', '3', '4']\n",
    "LABELS = [0,1,2,3,4]\n",
    "##EPOCHS = 300\n",
    "EPOCHS = 300"
   ]
  },
  {
   "cell_type": "code",
   "execution_count": 5,
   "metadata": {},
   "outputs": [
    {
     "data": {
      "text/plain": [
       "128"
      ]
     },
     "execution_count": 5,
     "metadata": {},
     "output_type": "execute_result"
    }
   ],
   "source": [
    "# No. of batched images for each batch \n",
    "BATCH_SIZE"
   ]
  },
  {
   "cell_type": "code",
   "execution_count": 6,
   "metadata": {},
   "outputs": [],
   "source": [
    "# Loading the data file names with labels\n",
    "df = pd.read_csv(GCS_PATH + '/train.csv')"
   ]
  },
  {
   "cell_type": "code",
   "execution_count": 7,
   "metadata": {},
   "outputs": [],
   "source": [
    "# Images and Labels\n",
    "X = df.loc[:,'image_id']\n",
    "y = df.loc[:,'label']\n",
    "# getting the values to count each category \n",
    "count_labels=y.values"
   ]
  },
  {
   "cell_type": "code",
   "execution_count": 8,
   "metadata": {},
   "outputs": [
    {
     "name": "stdout",
     "output_type": "stream",
     "text": [
      "The number of CBB =  1087\n",
      "The number of CBSD =  2189\n",
      "The number of CGM =  2386\n",
      "The number of CMD =  13158\n",
      "The number of Healthy =  2577\n"
     ]
    }
   ],
   "source": [
    "# Counting each types of the 5 labels \n",
    "\n",
    "CBB = 0\n",
    "CBSD = 0\n",
    "CGM = 0\n",
    "CMD = 0\n",
    "Healthy = 0\n",
    "\n",
    "for label in count_labels:\n",
    "    if label == 0:\n",
    "        CBB += 1\n",
    "    elif label == 1:\n",
    "        CBSD  += 1\n",
    "    elif label == 2:\n",
    "        CGM  += 1\n",
    "    elif label == 3:\n",
    "        CMD  += 1\n",
    "    else:\n",
    "        Healthy +=1\n",
    "\n",
    "\n",
    "print(\"The number of CBB = \",CBB )\n",
    "print(\"The number of CBSD = \",CBSD)\n",
    "print(\"The number of CGM = \",CGM )\n",
    "print(\"The number of CMD = \",CMD)\n",
    "print(\"The number of Healthy = \",Healthy)\n"
   ]
  },
  {
   "cell_type": "code",
   "execution_count": 3,
   "metadata": {},
   "outputs": [],
   "source": [
    "No_Of_Labels = {'0': 1087, '1': 2189, '2': 2386, '3': 13158, '4': 2577}"
   ]
  },
  {
   "cell_type": "code",
   "execution_count": 4,
   "metadata": {},
   "outputs": [
    {
     "data": {
      "image/png": "[encoded data removed]",
      "text/plain": [
       "<Figure size 432x288 with 1 Axes>"
      ]
     },
     "metadata": {
      "needs_background": "light"
     },
     "output_type": "display_data"
    }
   ],
   "source": [
    "fig = plt.figure()\n",
    "ax = fig.add_axes([0,0,1,1])\n",
    "\n",
    "ax.bar(No_Of_Labels.keys(),No_Of_Labels.values())\n",
    "plt.show()"
   ]
  },
  {
   "cell_type": "markdown",
   "metadata": {},
   "source": [
    "# Load the data\n",
    "\n",
    "The data we're working with have been formatted into `TFRecords`, which are a format for storing a sequence of binary records. `TFRecords` work _really_ well with TPUs, and allow us to send a small number of large files across the TPU for processing.  \n",
    "\n",
    "## Decode the data\n",
    "\n",
    "In the code chunk below we'll set up a series of functions that allow us to convert our images into tensors so that we can utilize them in our model. We'll also normalize our data. Our images are using a \"Red, Blue, Green (RBG)\" scale that has a range of [0, 255], and by normalizing it we'll set each pixel's value to a number in the range of [0, 1]. \n",
    "\n",
    "## Use the data as soon as it streams in\n",
    "\n",
    "We'll use the following function to load our dataset. One of the advantages of a TPU is that we can run multiple files across the TPU at once, and this accounts for the speed advantages of using a TPU. To capitalize on that, we want to make sure that we're using data as soon as it streams in, rather than creating a data streaming bottleneck."
   ]
  },
  {
   "cell_type": "code",
   "execution_count": 9,
   "metadata": {},
   "outputs": [],
   "source": [
    "## Loading , reading and decoding images from TFRecords\n",
    "\n",
    "## will be used to load the training data and the validation data\n",
    "\n",
    "def decode_image(image):\n",
    "    image = tf.image.decode_jpeg(image, channels=3)\n",
    "    image = tf.cast(image, tf.float32) / 255.0\n",
    "    image = tf.reshape(image, [*IMAGE_SIZE, 3])\n",
    "    return image\n",
    "\n",
    "def read_tfrecord(example, labeled):\n",
    "    tfrecord_format = {\n",
    "        \"image\": tf.io.FixedLenFeature([], tf.string),\n",
    "        \"target\": tf.io.FixedLenFeature([], tf.int64)\n",
    "    } if labeled else {\n",
    "        \"image\": tf.io.FixedLenFeature([], tf.string),\n",
    "        \"image_name\": tf.io.FixedLenFeature([], tf.string)\n",
    "    }\n",
    "    example = tf.io.parse_single_example(example, tfrecord_format)\n",
    "    image = decode_image(example['image'])\n",
    "    if labeled:\n",
    "        label = tf.cast(example['target'], tf.int32)\n",
    "        return image, label\n",
    "    idnum = example['image_name']\n",
    "    return image, idnum\n",
    "\n",
    "def load_dataset(filenames, labeled=True, ordered=False):\n",
    "    ignore_order = tf.data.Options() ## Turn off optimization \n",
    "    if not ordered:\n",
    "        ignore_order.experimental_deterministic = False # disable order, increase speed, ## Turn off optimization (or ordered)\n",
    "    dataset = tf.data.TFRecordDataset(filenames, num_parallel_reads=AUTOTUNE) # automatically interleaves reads from multiple files\n",
    "    dataset = dataset.with_options(ignore_order) # uses data as soon as it streams in, rather than in its original order\n",
    "    dataset = dataset.map(partial(read_tfrecord, labeled=labeled), num_parallel_calls=AUTOTUNE)\n",
    "    return dataset"
   ]
  },
  {
   "cell_type": "markdown",
   "metadata": {},
   "source": [
    "## Adding in augmentations \n",
    "\n",
    "Augmentation on the fly using dataset.prefetch(AUTO) after calling data_augment(image, label)\n",
    "\n",
    "Thanks to the dataset.prefetch(AUTO) statement in the following function this happens essentially for free on TPU. \n",
    "Data pipeline code is executed on the \"CPU\" part of the TPU while the TPU itself is computing gradients."
   ]
  },
  {
   "cell_type": "code",
   "execution_count": null,
   "metadata": {},
   "outputs": [],
   "source": [
    "## Augmentation on the fly using dataset.prefetch(AUTO) after calling data_augment(image, label)\n",
    "\n",
    "def data_augment(image, label):\n",
    "    # Thanks to the dataset.prefetch(AUTO) statement in the following function this happens essentially for free on TPU. \n",
    "    # Data pipeline code is executed on the \"CPU\" part of the TPU while the TPU itself is computing gradients.\n",
    "    \n",
    "    ## Manual Augmentation using tf.images library for Augmentation\n",
    "    \n",
    "    ## Randomly choose between features to be applied in the Augmentation\n",
    "    \n",
    "    choice = np.random.randint(5)\n",
    "    if choice == 0:\n",
    "        image = tf.image.flip_left_right(image)\n",
    "    elif choice == 1:\n",
    "        image = tf.image.flip_up_down(image)\n",
    "    elif choice == 2:\n",
    "        image = tf.image.random_flip_left_right(image)\n",
    "    elif choice == 3:\n",
    "        image = tf.image.random_flip_up_down(image)\n",
    "    else:\n",
    "        image = tf.image.rot90(image)\n",
    "    \n",
    "    ##else:\n",
    "    ##    return image, label\n",
    "    \n",
    "    return image, label\n",
    "\n",
    "## other features could be applied for Augmentation\n",
    "'''\n",
    "elif choice == 5:\n",
    "        image = tf.image.transpose(image)\n",
    "    elif choice == 6:\n",
    "        image = tf.image.adjust_brightness(image, delta=0.1)\n",
    "    elif choice == 7:\n",
    "        image = tf.image.adjust_contrast(image, 2)\n",
    "    elif choice == 8:\n",
    "        image = tf.image.adjust_gamma(image, 0.2)\n",
    "    elif choice == 9:\n",
    "        image = tf.image.random_brightness(image, 0.2)\n",
    "    elif choice == 10:\n",
    "        image = tf.image.random_contrast(image, 0.2, 0.5)\n",
    "    elif choice == 11:\n",
    "        image = tf.image.rgb_to_grayscale(image)\n",
    "    else:\n",
    "        image = tf.image.adjust_hue(image, 0.2)\n",
    "'''"
   ]
  },
  {
   "cell_type": "markdown",
   "metadata": {},
   "source": [
    "# Splitting the data\n",
    "\n",
    "Because our data consists of `training` and `test` images only, we're going to split our `training` data into `training` and `validation` data using the `train_test_split()` function. "
   ]
  },
  {
   "cell_type": "code",
   "execution_count": 14,
   "metadata": {},
   "outputs": [],
   "source": [
    "## Splitting the dataset to training and validation \n",
    "\n",
    "TRAINING_FILENAMES, VALID_FILENAMES = train_test_split(\n",
    "    tf.io.gfile.glob(GCS_PATH + '/train_tfrecords/ld_train*.tfrec'),\n",
    "    test_size=0.1, random_state=5\n",
    ")\n",
    "\n",
    "## Loading the test file \n",
    "\n",
    "TEST_FILENAMES = tf.io.gfile.glob(GCS_PATH + '/test_tfrecords/ld_test*.tfrec')"
   ]
  },
  {
   "cell_type": "code",
   "execution_count": 15,
   "metadata": {},
   "outputs": [
    {
     "data": {
      "text/plain": [
       "['gs://kds-0ec1dec9f628bce2bc810157442805632bd221934a9e1921da420af8/train_tfrecords/ld_train05-1338.tfrec',\n",
       " 'gs://kds-0ec1dec9f628bce2bc810157442805632bd221934a9e1921da420af8/train_tfrecords/ld_train01-1338.tfrec']"
      ]
     },
     "execution_count": 15,
     "metadata": {},
     "output_type": "execute_result"
    }
   ],
   "source": [
    "# Validation filenames to be used in validation offline if needed \n",
    "VALID_FILENAMES"
   ]
  },
  {
   "cell_type": "markdown",
   "metadata": {},
   "source": [
    "## Define data loading methods\n",
    "The following functions will be used to load our `training`, `validation`, and `test` datasets, as well as print out the number of images in each dataset."
   ]
  },
  {
   "cell_type": "code",
   "execution_count": null,
   "metadata": {},
   "outputs": [],
   "source": [
    "## Loading, Augmentation , shuffling batching and prefetching for dataset and call training, validation and testing\n",
    "\n",
    "def get_training_dataset():\n",
    "    dataset = load_dataset(TRAINING_FILENAMES, labeled=True)  \n",
    "    dataset = dataset.map(data_augment, num_parallel_calls=AUTOTUNE)  ## Augmentation\n",
    "    dataset = dataset.repeat()\n",
    "    dataset = dataset.shuffle(2048) ## shuffling the dataset \n",
    "    dataset = dataset.batch(BATCH_SIZE) ## put the dataset as batches\n",
    "    dataset = dataset.prefetch(AUTOTUNE) ## used to help Augmentation to be on the fly as we said the Augmentation cell \n",
    "    return dataset\n",
    "\n",
    "def get_validation_dataset(ordered=False):\n",
    "    dataset = load_dataset(VALID_FILENAMES, labeled=True, ordered=ordered)\n",
    "    ##dataset = dataset.map(data_augment, num_parallel_calls=AUTOTUNE) \n",
    "    dataset = dataset.batch(BATCH_SIZE)\n",
    "    dataset = dataset.cache()\n",
    "    dataset = dataset.prefetch(AUTOTUNE)\n",
    "    return dataset\n",
    "\n",
    "def get_test_dataset(ordered=False):\n",
    "    dataset = load_dataset(TEST_FILENAMES, labeled=False, ordered=ordered)\n",
    "    dataset = dataset.batch(BATCH_SIZE)\n",
    "    dataset = dataset.prefetch(AUTOTUNE)\n",
    "    return dataset"
   ]
  },
  {
   "cell_type": "code",
   "execution_count": 17,
   "metadata": {},
   "outputs": [
    {
     "name": "stdout",
     "output_type": "stream",
     "text": [
      "Dataset: 18721 training images, 2676 validation images, 1 (unlabeled) test images\n"
     ]
    }
   ],
   "source": [
    "## counting the number of dataset in each category (training and validation)\n",
    "\n",
    "def count_data_items(filenames):\n",
    "    n = [int(re.compile(r\"-([0-9]*)\\.\").search(filename).group(1)) for filename in filenames]\n",
    "    return np.sum(n)\n",
    "\n",
    "NUM_TRAINING_IMAGES = count_data_items(TRAINING_FILENAMES)\n",
    "NUM_VALIDATION_IMAGES = count_data_items(VALID_FILENAMES)\n",
    "NUM_TEST_IMAGES = count_data_items(TEST_FILENAMES)\n",
    "\n",
    "print('Dataset: {} training images, {} validation images, {} (unlabeled) test images'.format(\n",
    "    NUM_TRAINING_IMAGES, NUM_VALIDATION_IMAGES, NUM_TEST_IMAGES))"
   ]
  },
  {
   "cell_type": "markdown",
   "metadata": {},
   "source": [
    "# Building the model\n",
    "## Learning rate schedule\n",
    "We learned about learning rates in the **[Intro to Deep Learning: Stochastic Gradient Descent](https://www.kaggle.com/ryanholbrook/stochastic-gradient-descent)** lesson, and here I've created a learning rate schedule mostly using the defaults in the **[Keras Exponential Decay Learning Rate Scheduler](https://keras.io/api/optimizers/learning_rate_schedules/exponential_decay/)** documentation (I did change the `initial_learning_rate`. You can adjust the learning rate scheduler below, and read more about the other types of schedulers available to you in the **[Keras learning rate schedules API](https://keras.io/api/optimizers/learning_rate_schedules/)**."
   ]
  },
  {
   "cell_type": "code",
   "execution_count": 18,
   "metadata": {},
   "outputs": [],
   "source": [
    "lr_scheduler = keras.optimizers.schedules.ExponentialDecay(\n",
    "    initial_learning_rate=1e-5, \n",
    "    decay_steps=10000, \n",
    "    decay_rate=0.9)"
   ]
  },
  {
   "cell_type": "code",
   "execution_count": 19,
   "metadata": {},
   "outputs": [
    {
     "name": "stdout",
     "output_type": "stream",
     "text": [
      "Downloading data from https://storage.googleapis.com/tensorflow/keras-applications/vgg19/vgg19_weights_tf_dim_ordering_tf_kernels.h5\n",
      "574717952/574710816 [==============================] - 4s 0us/step\n",
      "Model: \"vgg19\"\n",
      "_________________________________________________________________\n",
      "Layer (type)                 Output Shape              Param #   \n",
      "=================================================================\n",
      "input_1 (InputLayer)         [(None, 224, 224, 3)]     0         \n",
      "_________________________________________________________________\n",
      "block1_conv1 (Conv2D)        (None, 224, 224, 64)      1792      \n",
      "_________________________________________________________________\n",
      "block1_conv2 (Conv2D)        (None, 224, 224, 64)      36928     \n",
      "_________________________________________________________________\n",
      "block1_pool (MaxPooling2D)   (None, 112, 112, 64)      0         \n",
      "_________________________________________________________________\n",
      "block2_conv1 (Conv2D)        (None, 112, 112, 128)     73856     \n",
      "_________________________________________________________________\n",
      "block2_conv2 (Conv2D)        (None, 112, 112, 128)     147584    \n",
      "_________________________________________________________________\n",
      "block2_pool (MaxPooling2D)   (None, 56, 56, 128)       0         \n",
      "_________________________________________________________________\n",
      "block3_conv1 (Conv2D)        (None, 56, 56, 256)       295168    \n",
      "_________________________________________________________________\n",
      "block3_conv2 (Conv2D)        (None, 56, 56, 256)       590080    \n",
      "_________________________________________________________________\n",
      "block3_conv3 (Conv2D)        (None, 56, 56, 256)       590080    \n",
      "_________________________________________________________________\n",
      "block3_conv4 (Conv2D)        (None, 56, 56, 256)       590080    \n",
      "_________________________________________________________________\n",
      "block3_pool (MaxPooling2D)   (None, 28, 28, 256)       0         \n",
      "_________________________________________________________________\n",
      "block4_conv1 (Conv2D)        (None, 28, 28, 512)       1180160   \n",
      "_________________________________________________________________\n",
      "block4_conv2 (Conv2D)        (None, 28, 28, 512)       2359808   \n",
      "_________________________________________________________________\n",
      "block4_conv3 (Conv2D)        (None, 28, 28, 512)       2359808   \n",
      "_________________________________________________________________\n",
      "block4_conv4 (Conv2D)        (None, 28, 28, 512)       2359808   \n",
      "_________________________________________________________________\n",
      "block4_pool (MaxPooling2D)   (None, 14, 14, 512)       0         \n",
      "_________________________________________________________________\n",
      "block5_conv1 (Conv2D)        (None, 14, 14, 512)       2359808   \n",
      "_________________________________________________________________\n",
      "block5_conv2 (Conv2D)        (None, 14, 14, 512)       2359808   \n",
      "_________________________________________________________________\n",
      "block5_conv3 (Conv2D)        (None, 14, 14, 512)       2359808   \n",
      "_________________________________________________________________\n",
      "block5_conv4 (Conv2D)        (None, 14, 14, 512)       2359808   \n",
      "_________________________________________________________________\n",
      "block5_pool (MaxPooling2D)   (None, 7, 7, 512)         0         \n",
      "_________________________________________________________________\n",
      "flatten (Flatten)            (None, 25088)             0         \n",
      "_________________________________________________________________\n",
      "fc1 (Dense)                  (None, 4096)              102764544 \n",
      "_________________________________________________________________\n",
      "fc2 (Dense)                  (None, 4096)              16781312  \n",
      "_________________________________________________________________\n",
      "predictions (Dense)          (None, 1000)              4097000   \n",
      "=================================================================\n",
      "Total params: 143,667,240\n",
      "Trainable params: 143,667,240\n",
      "Non-trainable params: 0\n",
      "_________________________________________________________________\n"
     ]
    }
   ],
   "source": [
    "# example of loading the vgg19 model\n",
    "from keras.applications.vgg19 import VGG19\n",
    "# load model\n",
    "model = VGG19()\n",
    "# summarize the model\n",
    "model.summary()"
   ]
  },
  {
   "cell_type": "markdown",
   "metadata": {},
   "source": [
    "## Building our model\n",
    "In order to ensure that our model is trained on the TPU, we build it using `with strategy.scope()`.    \n",
    "\n",
    "This model was built using transfer learning, meaning that we have a _pre-trained model_ (ResNet50) as our base model and then the customizable model built using `tf.keras.Sequential`. If you're new to transfer learning I recommend setting `base_model.trainable` to **False**, but _do_ encourage you to change which base model you're using (more options are available in the **[`tf.keras.applications` Module](https://www.tensorflow.org/api_docs/python/tf/keras/applications)** documentation) as well iterate on the custom model. \n",
    "\n",
    "Note that we're using `sparse_categorical_crossentropy` as our loss function, because we did _not_ one-hot encode our labels."
   ]
  },
  {
   "cell_type": "markdown",
   "metadata": {},
   "source": [
    "# Putting Tranfser learning layer\n",
    "\n",
    "# Parameters that will not changed during comparisons\n",
    "\n",
    "We just include the cnn layers (include_top=False)\n",
    "\n",
    "Getting the weights of the pretrained model (weights=\"imagenet)\n",
    "\n",
    "Putting 5 Linear connected layers + 1 for softmax output"
   ]
  },
  {
   "cell_type": "markdown",
   "metadata": {},
   "source": [
    "# Parameters that will be changed during comparisons\n",
    "\n",
    "# Case 1 :\n",
    "\n",
    "Transfer layer VGG19\n",
    "\n",
    "The parameters are Tunable (trainable = True)\n",
    "\n",
    "Variable learning rate\n"
   ]
  },
  {
   "cell_type": "code",
   "execution_count": null,
   "metadata": {},
   "outputs": [],
   "source": [
    "\n",
    "from keras.applications.vgg19 import preprocess_input\n",
    "\n",
    "#tf.keras.applications.vgg19.preprocess_input\n",
    "\n",
    "\n",
    "with strategy.scope():       \n",
    "    ##img_adjust_layer = tf.keras.layers.Lambda(tf.keras.applications.vgg16.preprocess_input, input_shape=[512,512, 3])\n",
    "    \n",
    "    base_model = tf.keras.applications.VGG19(\n",
    "    include_top=False,\n",
    "    weights=\"imagenet\",\n",
    "    input_tensor= None,\n",
    "    input_shape=[512,512, 3],\n",
    "    pooling=None,\n",
    "    classes=5,\n",
    "    classifier_activation=\"softmax\")\n",
    "    \n",
    "    base_model.trainable = True\n",
    "    \n",
    "    \n",
    "    model = tf.keras.Sequential([\n",
    "        tf.keras.layers.BatchNormalization(renorm=True),\n",
    "        ##img_adjust_layer,\n",
    "        base_model,\n",
    "        tf.keras.layers.GlobalAveragePooling2D(),\n",
    "        \n",
    "        tf.keras.layers.Flatten(),\n",
    "        tf.keras.layers.Dense(units=4096,activation=\"relu\"),\n",
    "        tf.keras.layers.Dense(units=4096,activation=\"relu\"),\n",
    "        tf.keras.layers.Dense(units=1000,activation=\"relu\"),\n",
    "        tf.keras.layers.Dense(units=500,activation=\"relu\"),\n",
    "        tf.keras.layers.Dense(units=100,activation=\"relu\"),\n",
    "        tf.keras.layers.Dense(units=5, activation=\"softmax\") \n",
    "        \n",
    "    ])\n",
    "    \n",
    "    model.compile(\n",
    "        optimizer=tf.keras.optimizers.Adam(learning_rate=lr_scheduler, epsilon=0.001),\n",
    "        loss='sparse_categorical_crossentropy',\n",
    "        metrics=['sparse_categorical_accuracy'])\n",
    "        \n",
    "\n",
    "'''\n",
    "        metrics2=['categorical_accuracy',\n",
    "                           tf.keras.metrics.Precision(name='Precision'),\n",
    "                           tf.keras.metrics.Recall(name='Recall')])\n",
    "                           \n",
    "                           'sparse_categorical_accuracy'\n",
    "                           metrics=['sparse_categorical_accuracy'])\n",
    "                            metrics=['sparse_categorical_accuracy',tf.keras.metrics.AUC()])\n",
    "'''"
   ]
  },
  {
   "cell_type": "markdown",
   "metadata": {},
   "source": [
    "# Train the model\n",
    "As our model is training you'll see a printout for each epoch, and can also monitor TPU usage by clicking on the TPU metrics in the toolbar at the top right of your notebook."
   ]
  },
  {
   "cell_type": "code",
   "execution_count": 21,
   "metadata": {},
   "outputs": [],
   "source": [
    "# load data\n",
    "train_dataset = get_training_dataset()\n",
    "valid_dataset = get_validation_dataset()"
   ]
  },
  {
   "cell_type": "code",
   "execution_count": 22,
   "metadata": {},
   "outputs": [],
   "source": [
    "from keras.callbacks import CSVLogger\n",
    "\n",
    "##csv_logger = CSVLogger('training.log', separator=',', append=False)\n"
   ]
  },
  {
   "cell_type": "markdown",
   "metadata": {},
   "source": [
    "# CallBacks\n",
    "\n",
    "EarlyStopping : stop early after \"patience\" number where there is no improvement in the learning\n",
    "\n",
    "ModelCheckpoint : to save the model\n",
    "\n",
    "CSVLogger : to save the history of the model after each epoic\n",
    "\n"
   ]
  },
  {
   "cell_type": "code",
   "execution_count": 23,
   "metadata": {},
   "outputs": [],
   "source": [
    "from tensorflow.keras.callbacks import EarlyStopping, ModelCheckpoint\n",
    "\n",
    "keras_callbacks   = [EarlyStopping(monitor='val_loss', patience=30, mode='min', min_delta=0.0001),\n",
    "    ModelCheckpoint('mymodel.h5', monitor='val_loss', verbose=1,\n",
    "    save_best_only=True, save_weights_only=True, mode='auto', period=1),\n",
    "    CSVLogger('training.log', separator=',', append=False)\n",
    "    \n",
    "]\n",
    "\n",
    "##save_best_only=True"
   ]
  },
  {
   "cell_type": "markdown",
   "metadata": {},
   "source": [
    "# Train the model\n",
    "\n",
    "\n",
    "\n"
   ]
  },
  {
   "cell_type": "code",
   "execution_count": 24,
   "metadata": {},
   "outputs": [
    {
     "name": "stdout",
     "output_type": "stream",
     "text": [
      "Epoch 1/300\n",
      "146/146 [==============================] - ETA: 0s - sparse_categorical_accuracy: 0.5943 - loss: 1.1844\n",
      "Epoch 00001: val_loss improved from inf to 1.04902, saving model to mymodel.h5\n",
      "146/146 [==============================] - 77s 526ms/step - sparse_categorical_accuracy: 0.5943 - loss: 1.1844 - val_sparse_categorical_accuracy: 0.6043 - val_loss: 1.0490\n",
      "Epoch 2/300\n",
      "146/146 [==============================] - ETA: 0s - sparse_categorical_accuracy: 0.6880 - loss: 0.8284\n",
      "Epoch 00002: val_loss improved from 1.04902 to 0.76983, saving model to mymodel.h5\n",
      "146/146 [==============================] - 66s 453ms/step - sparse_categorical_accuracy: 0.6880 - loss: 0.8284 - val_sparse_categorical_accuracy: 0.7109 - val_loss: 0.7698\n",
      "Epoch 3/300\n",
      "146/146 [==============================] - ETA: 0s - sparse_categorical_accuracy: 0.7817 - loss: 0.6019\n",
      "Epoch 00003: val_loss improved from 0.76983 to 0.71743, saving model to mymodel.h5\n",
      "146/146 [==============================] - 67s 456ms/step - sparse_categorical_accuracy: 0.7817 - loss: 0.6019 - val_sparse_categorical_accuracy: 0.7242 - val_loss: 0.7174\n",
      "Epoch 4/300\n",
      "146/146 [==============================] - ETA: 0s - sparse_categorical_accuracy: 0.8090 - loss: 0.5397\n",
      "Epoch 00004: val_loss improved from 0.71743 to 0.62419, saving model to mymodel.h5\n",
      "146/146 [==============================] - 62s 423ms/step - sparse_categorical_accuracy: 0.8090 - loss: 0.5397 - val_sparse_categorical_accuracy: 0.7859 - val_loss: 0.6242\n",
      "Epoch 5/300\n",
      "146/146 [==============================] - ETA: 0s - sparse_categorical_accuracy: 0.8295 - loss: 0.4893\n",
      "Epoch 00005: val_loss did not improve from 0.62419\n",
      "146/146 [==============================] - 65s 448ms/step - sparse_categorical_accuracy: 0.8295 - loss: 0.4893 - val_sparse_categorical_accuracy: 0.7766 - val_loss: 0.6260\n",
      "Epoch 6/300\n",
      "146/146 [==============================] - ETA: 0s - sparse_categorical_accuracy: 0.8389 - loss: 0.4682\n",
      "Epoch 00006: val_loss improved from 0.62419 to 0.55749, saving model to mymodel.h5\n",
      "146/146 [==============================] - 60s 411ms/step - sparse_categorical_accuracy: 0.8389 - loss: 0.4682 - val_sparse_categorical_accuracy: 0.7945 - val_loss: 0.5575\n",
      "Epoch 7/300\n",
      "146/146 [==============================] - ETA: 0s - sparse_categorical_accuracy: 0.8433 - loss: 0.4454\n",
      "Epoch 00007: val_loss did not improve from 0.55749\n",
      "146/146 [==============================] - 59s 405ms/step - sparse_categorical_accuracy: 0.8433 - loss: 0.4454 - val_sparse_categorical_accuracy: 0.7852 - val_loss: 0.6288\n",
      "Epoch 8/300\n",
      "146/146 [==============================] - ETA: 0s - sparse_categorical_accuracy: 0.8551 - loss: 0.4271\n",
      "Epoch 00008: val_loss improved from 0.55749 to 0.53237, saving model to mymodel.h5\n",
      "146/146 [==============================] - 60s 412ms/step - sparse_categorical_accuracy: 0.8551 - loss: 0.4271 - val_sparse_categorical_accuracy: 0.8137 - val_loss: 0.5324\n",
      "Epoch 9/300\n",
      "146/146 [==============================] - ETA: 0s - sparse_categorical_accuracy: 0.8539 - loss: 0.4217\n",
      "Epoch 00009: val_loss improved from 0.53237 to 0.51678, saving model to mymodel.h5\n",
      "146/146 [==============================] - 60s 412ms/step - sparse_categorical_accuracy: 0.8539 - loss: 0.4217 - val_sparse_categorical_accuracy: 0.8141 - val_loss: 0.5168\n",
      "Epoch 10/300\n",
      "146/146 [==============================] - ETA: 0s - sparse_categorical_accuracy: 0.8661 - loss: 0.3884\n",
      "Epoch 00010: val_loss did not improve from 0.51678\n",
      "146/146 [==============================] - 59s 405ms/step - sparse_categorical_accuracy: 0.8661 - loss: 0.3884 - val_sparse_categorical_accuracy: 0.8125 - val_loss: 0.5407\n",
      "Epoch 11/300\n",
      "146/146 [==============================] - ETA: 0s - sparse_categorical_accuracy: 0.8668 - loss: 0.3886\n",
      "Epoch 00011: val_loss improved from 0.51678 to 0.49349, saving model to mymodel.h5\n",
      "146/146 [==============================] - 60s 412ms/step - sparse_categorical_accuracy: 0.8668 - loss: 0.3886 - val_sparse_categorical_accuracy: 0.8309 - val_loss: 0.4935\n",
      "Epoch 12/300\n",
      "146/146 [==============================] - ETA: 0s - sparse_categorical_accuracy: 0.8728 - loss: 0.3715\n",
      "Epoch 00012: val_loss improved from 0.49349 to 0.48782, saving model to mymodel.h5\n",
      "146/146 [==============================] - 60s 411ms/step - sparse_categorical_accuracy: 0.8728 - loss: 0.3715 - val_sparse_categorical_accuracy: 0.8383 - val_loss: 0.4878\n",
      "Epoch 13/300\n",
      "146/146 [==============================] - ETA: 0s - sparse_categorical_accuracy: 0.8744 - loss: 0.3654\n",
      "Epoch 00013: val_loss did not improve from 0.48782\n",
      "146/146 [==============================] - 59s 404ms/step - sparse_categorical_accuracy: 0.8744 - loss: 0.3654 - val_sparse_categorical_accuracy: 0.8133 - val_loss: 0.5567\n",
      "Epoch 14/300\n",
      "146/146 [==============================] - ETA: 0s - sparse_categorical_accuracy: 0.8756 - loss: 0.3604\n",
      "Epoch 00014: val_loss improved from 0.48782 to 0.48502, saving model to mymodel.h5\n",
      "146/146 [==============================] - 60s 410ms/step - sparse_categorical_accuracy: 0.8756 - loss: 0.3604 - val_sparse_categorical_accuracy: 0.8273 - val_loss: 0.4850\n",
      "Epoch 15/300\n",
      "146/146 [==============================] - ETA: 0s - sparse_categorical_accuracy: 0.8829 - loss: 0.3418\n",
      "Epoch 00015: val_loss improved from 0.48502 to 0.47883, saving model to mymodel.h5\n",
      "146/146 [==============================] - 60s 408ms/step - sparse_categorical_accuracy: 0.8829 - loss: 0.3418 - val_sparse_categorical_accuracy: 0.8371 - val_loss: 0.4788\n",
      "Epoch 16/300\n",
      "146/146 [==============================] - ETA: 0s - sparse_categorical_accuracy: 0.8802 - loss: 0.3440\n",
      "Epoch 00016: val_loss improved from 0.47883 to 0.46855, saving model to mymodel.h5\n",
      "146/146 [==============================] - 60s 413ms/step - sparse_categorical_accuracy: 0.8802 - loss: 0.3440 - val_sparse_categorical_accuracy: 0.8406 - val_loss: 0.4686\n",
      "Epoch 17/300\n",
      "146/146 [==============================] - ETA: 0s - sparse_categorical_accuracy: 0.8878 - loss: 0.3248\n",
      "Epoch 00017: val_loss did not improve from 0.46855\n",
      "146/146 [==============================] - 59s 403ms/step - sparse_categorical_accuracy: 0.8878 - loss: 0.3248 - val_sparse_categorical_accuracy: 0.8207 - val_loss: 0.5143\n",
      "Epoch 18/300\n",
      "146/146 [==============================] - ETA: 0s - sparse_categorical_accuracy: 0.8903 - loss: 0.3186\n",
      "Epoch 00018: val_loss did not improve from 0.46855\n",
      "146/146 [==============================] - 59s 405ms/step - sparse_categorical_accuracy: 0.8903 - loss: 0.3186 - val_sparse_categorical_accuracy: 0.8309 - val_loss: 0.4975\n",
      "Epoch 19/300\n",
      "146/146 [==============================] - ETA: 0s - sparse_categorical_accuracy: 0.8924 - loss: 0.3163\n",
      "Epoch 00019: val_loss did not improve from 0.46855\n",
      "146/146 [==============================] - 59s 405ms/step - sparse_categorical_accuracy: 0.8924 - loss: 0.3163 - val_sparse_categorical_accuracy: 0.8320 - val_loss: 0.4846\n",
      "Epoch 20/300\n",
      "146/146 [==============================] - ETA: 0s - sparse_categorical_accuracy: 0.8957 - loss: 0.3025\n",
      "Epoch 00020: val_loss did not improve from 0.46855\n",
      "146/146 [==============================] - 59s 404ms/step - sparse_categorical_accuracy: 0.8957 - loss: 0.3025 - val_sparse_categorical_accuracy: 0.8113 - val_loss: 0.5218\n",
      "Epoch 21/300\n",
      "146/146 [==============================] - ETA: 0s - sparse_categorical_accuracy: 0.8944 - loss: 0.3068\n",
      "Epoch 00021: val_loss did not improve from 0.46855\n",
      "146/146 [==============================] - 59s 407ms/step - sparse_categorical_accuracy: 0.8944 - loss: 0.3068 - val_sparse_categorical_accuracy: 0.8195 - val_loss: 0.5059\n",
      "Epoch 22/300\n",
      "146/146 [==============================] - ETA: 0s - sparse_categorical_accuracy: 0.8999 - loss: 0.2936\n",
      "Epoch 00022: val_loss did not improve from 0.46855\n",
      "146/146 [==============================] - 59s 407ms/step - sparse_categorical_accuracy: 0.8999 - loss: 0.2936 - val_sparse_categorical_accuracy: 0.8309 - val_loss: 0.4847\n",
      "Epoch 23/300\n",
      "146/146 [==============================] - ETA: 0s - sparse_categorical_accuracy: 0.9008 - loss: 0.2861\n",
      "Epoch 00023: val_loss did not improve from 0.46855\n",
      "146/146 [==============================] - 59s 405ms/step - sparse_categorical_accuracy: 0.9008 - loss: 0.2861 - val_sparse_categorical_accuracy: 0.8188 - val_loss: 0.5294\n",
      "Epoch 24/300\n",
      "146/146 [==============================] - ETA: 0s - sparse_categorical_accuracy: 0.9022 - loss: 0.2830\n",
      "Epoch 00024: val_loss did not improve from 0.46855\n",
      "146/146 [==============================] - 59s 405ms/step - sparse_categorical_accuracy: 0.9022 - loss: 0.2830 - val_sparse_categorical_accuracy: 0.8203 - val_loss: 0.4952\n",
      "Epoch 25/300\n",
      "146/146 [==============================] - ETA: 0s - sparse_categorical_accuracy: 0.9067 - loss: 0.2655\n",
      "Epoch 00025: val_loss did not improve from 0.46855\n",
      "146/146 [==============================] - 59s 407ms/step - sparse_categorical_accuracy: 0.9067 - loss: 0.2655 - val_sparse_categorical_accuracy: 0.8227 - val_loss: 0.5188\n",
      "Epoch 26/300\n",
      "146/146 [==============================] - ETA: 0s - sparse_categorical_accuracy: 0.9074 - loss: 0.2711\n",
      "Epoch 00026: val_loss did not improve from 0.46855\n",
      "146/146 [==============================] - 60s 410ms/step - sparse_categorical_accuracy: 0.9074 - loss: 0.2711 - val_sparse_categorical_accuracy: 0.8301 - val_loss: 0.5007\n",
      "Epoch 27/300\n",
      "146/146 [==============================] - ETA: 0s - sparse_categorical_accuracy: 0.9137 - loss: 0.2561\n",
      "Epoch 00027: val_loss did not improve from 0.46855\n",
      "146/146 [==============================] - 59s 407ms/step - sparse_categorical_accuracy: 0.9137 - loss: 0.2561 - val_sparse_categorical_accuracy: 0.8250 - val_loss: 0.5189\n",
      "Epoch 28/300\n",
      "146/146 [==============================] - ETA: 0s - sparse_categorical_accuracy: 0.9119 - loss: 0.2539\n",
      "Epoch 00028: val_loss did not improve from 0.46855\n",
      "146/146 [==============================] - 60s 408ms/step - sparse_categorical_accuracy: 0.9119 - loss: 0.2539 - val_sparse_categorical_accuracy: 0.8105 - val_loss: 0.5562\n",
      "Epoch 29/300\n",
      "146/146 [==============================] - ETA: 0s - sparse_categorical_accuracy: 0.9152 - loss: 0.2434\n",
      "Epoch 00029: val_loss did not improve from 0.46855\n",
      "146/146 [==============================] - 60s 409ms/step - sparse_categorical_accuracy: 0.9152 - loss: 0.2434 - val_sparse_categorical_accuracy: 0.8199 - val_loss: 0.5355\n",
      "Epoch 30/300\n",
      "146/146 [==============================] - ETA: 0s - sparse_categorical_accuracy: 0.9175 - loss: 0.2331\n",
      "Epoch 00030: val_loss did not improve from 0.46855\n",
      "146/146 [==============================] - 59s 407ms/step - sparse_categorical_accuracy: 0.9175 - loss: 0.2331 - val_sparse_categorical_accuracy: 0.8148 - val_loss: 0.5488\n",
      "Epoch 31/300\n",
      "146/146 [==============================] - ETA: 0s - sparse_categorical_accuracy: 0.9217 - loss: 0.2279\n",
      "Epoch 00031: val_loss did not improve from 0.46855\n",
      "146/146 [==============================] - 60s 408ms/step - sparse_categorical_accuracy: 0.9217 - loss: 0.2279 - val_sparse_categorical_accuracy: 0.8039 - val_loss: 0.5823\n",
      "Epoch 32/300\n",
      "146/146 [==============================] - ETA: 0s - sparse_categorical_accuracy: 0.9208 - loss: 0.2291\n",
      "Epoch 00032: val_loss did not improve from 0.46855\n",
      "146/146 [==============================] - 60s 410ms/step - sparse_categorical_accuracy: 0.9208 - loss: 0.2291 - val_sparse_categorical_accuracy: 0.8164 - val_loss: 0.5405\n",
      "Epoch 33/300\n",
      "146/146 [==============================] - ETA: 0s - sparse_categorical_accuracy: 0.9248 - loss: 0.2158\n",
      "Epoch 00033: val_loss did not improve from 0.46855\n",
      "146/146 [==============================] - 59s 407ms/step - sparse_categorical_accuracy: 0.9248 - loss: 0.2158 - val_sparse_categorical_accuracy: 0.8141 - val_loss: 0.5502\n",
      "Epoch 34/300\n",
      "146/146 [==============================] - ETA: 0s - sparse_categorical_accuracy: 0.9246 - loss: 0.2123\n",
      "Epoch 00034: val_loss did not improve from 0.46855\n",
      "146/146 [==============================] - 59s 407ms/step - sparse_categorical_accuracy: 0.9246 - loss: 0.2123 - val_sparse_categorical_accuracy: 0.8117 - val_loss: 0.5526\n",
      "Epoch 35/300\n",
      "146/146 [==============================] - ETA: 0s - sparse_categorical_accuracy: 0.9254 - loss: 0.2092\n",
      "Epoch 00035: val_loss did not improve from 0.46855\n",
      "146/146 [==============================] - 59s 404ms/step - sparse_categorical_accuracy: 0.9254 - loss: 0.2092 - val_sparse_categorical_accuracy: 0.8098 - val_loss: 0.5733\n",
      "Epoch 36/300\n",
      "146/146 [==============================] - ETA: 0s - sparse_categorical_accuracy: 0.9342 - loss: 0.1911\n",
      "Epoch 00036: val_loss did not improve from 0.46855\n",
      "146/146 [==============================] - 59s 407ms/step - sparse_categorical_accuracy: 0.9342 - loss: 0.1911 - val_sparse_categorical_accuracy: 0.8285 - val_loss: 0.5292\n",
      "Epoch 37/300\n",
      "146/146 [==============================] - ETA: 0s - sparse_categorical_accuracy: 0.9376 - loss: 0.1816\n",
      "Epoch 00037: val_loss did not improve from 0.46855\n",
      "146/146 [==============================] - 59s 406ms/step - sparse_categorical_accuracy: 0.9376 - loss: 0.1816 - val_sparse_categorical_accuracy: 0.8133 - val_loss: 0.5737\n",
      "Epoch 38/300\n",
      "146/146 [==============================] - ETA: 0s - sparse_categorical_accuracy: 0.9403 - loss: 0.1703\n",
      "Epoch 00038: val_loss did not improve from 0.46855\n",
      "146/146 [==============================] - 60s 410ms/step - sparse_categorical_accuracy: 0.9403 - loss: 0.1703 - val_sparse_categorical_accuracy: 0.8078 - val_loss: 0.5779\n",
      "Epoch 39/300\n",
      "146/146 [==============================] - ETA: 0s - sparse_categorical_accuracy: 0.9421 - loss: 0.1692\n",
      "Epoch 00039: val_loss did not improve from 0.46855\n",
      "146/146 [==============================] - 59s 406ms/step - sparse_categorical_accuracy: 0.9421 - loss: 0.1692 - val_sparse_categorical_accuracy: 0.8109 - val_loss: 0.5953\n",
      "Epoch 40/300\n",
      "146/146 [==============================] - ETA: 0s - sparse_categorical_accuracy: 0.9472 - loss: 0.1562\n",
      "Epoch 00040: val_loss did not improve from 0.46855\n",
      "146/146 [==============================] - 59s 407ms/step - sparse_categorical_accuracy: 0.9472 - loss: 0.1562 - val_sparse_categorical_accuracy: 0.8242 - val_loss: 0.5793\n",
      "Epoch 41/300\n",
      "146/146 [==============================] - ETA: 0s - sparse_categorical_accuracy: 0.9480 - loss: 0.1515\n",
      "Epoch 00041: val_loss did not improve from 0.46855\n",
      "146/146 [==============================] - 60s 408ms/step - sparse_categorical_accuracy: 0.9480 - loss: 0.1515 - val_sparse_categorical_accuracy: 0.8008 - val_loss: 0.6525\n",
      "Epoch 42/300\n",
      "146/146 [==============================] - ETA: 0s - sparse_categorical_accuracy: 0.9556 - loss: 0.1330\n",
      "Epoch 00042: val_loss did not improve from 0.46855\n",
      "146/146 [==============================] - 59s 405ms/step - sparse_categorical_accuracy: 0.9556 - loss: 0.1330 - val_sparse_categorical_accuracy: 0.8063 - val_loss: 0.6326\n",
      "Epoch 43/300\n",
      "146/146 [==============================] - ETA: 0s - sparse_categorical_accuracy: 0.9519 - loss: 0.1365\n",
      "Epoch 00043: val_loss did not improve from 0.46855\n",
      "146/146 [==============================] - 60s 409ms/step - sparse_categorical_accuracy: 0.9519 - loss: 0.1365 - val_sparse_categorical_accuracy: 0.7539 - val_loss: 0.7446\n",
      "Epoch 44/300\n",
      "146/146 [==============================] - ETA: 0s - sparse_categorical_accuracy: 0.9532 - loss: 0.1363\n",
      "Epoch 00044: val_loss did not improve from 0.46855\n",
      "146/146 [==============================] - 59s 407ms/step - sparse_categorical_accuracy: 0.9532 - loss: 0.1363 - val_sparse_categorical_accuracy: 0.7750 - val_loss: 0.7115\n",
      "Epoch 45/300\n",
      "146/146 [==============================] - ETA: 0s - sparse_categorical_accuracy: 0.9574 - loss: 0.1271\n",
      "Epoch 00045: val_loss did not improve from 0.46855\n",
      "146/146 [==============================] - 60s 408ms/step - sparse_categorical_accuracy: 0.9574 - loss: 0.1271 - val_sparse_categorical_accuracy: 0.8070 - val_loss: 0.6546\n",
      "Epoch 46/300\n",
      "146/146 [==============================] - ETA: 0s - sparse_categorical_accuracy: 0.9627 - loss: 0.1127\n",
      "Epoch 00046: val_loss did not improve from 0.46855\n",
      "146/146 [==============================] - 59s 407ms/step - sparse_categorical_accuracy: 0.9627 - loss: 0.1127 - val_sparse_categorical_accuracy: 0.7937 - val_loss: 0.7218\n"
     ]
    }
   ],
   "source": [
    "STEPS_PER_EPOCH = NUM_TRAINING_IMAGES // BATCH_SIZE\n",
    "VALID_STEPS = NUM_VALIDATION_IMAGES // BATCH_SIZE\n",
    "\n",
    "history = model.fit(train_dataset, \n",
    "                    steps_per_epoch=STEPS_PER_EPOCH, \n",
    "                    epochs=EPOCHS,\n",
    "                    validation_data=valid_dataset,\n",
    "                    validation_steps=VALID_STEPS,\n",
    "                    callbacks=keras_callbacks)\n",
    "                   \n",
    "\n",
    "##model.save('mymodel.h5')"
   ]
  },
  {
   "cell_type": "markdown",
   "metadata": {},
   "source": [
    "# Model stopped in 46 Epoch because there is no more improvment in the val_loss"
   ]
  },
  {
   "cell_type": "code",
   "execution_count": 25,
   "metadata": {},
   "outputs": [
    {
     "name": "stdout",
     "output_type": "stream",
     "text": [
      "Model: \"sequential\"\n",
      "_________________________________________________________________\n",
      "Layer (type)                 Output Shape              Param #   \n",
      "=================================================================\n",
      "batch_normalization (BatchNo multiple                  21        \n",
      "_________________________________________________________________\n",
      "vgg19 (Model)                (None, 16, 16, 512)       20024384  \n",
      "_________________________________________________________________\n",
      "global_average_pooling2d (Gl multiple                  0         \n",
      "_________________________________________________________________\n",
      "flatten (Flatten)            multiple                  0         \n",
      "_________________________________________________________________\n",
      "dense (Dense)                multiple                  2101248   \n",
      "_________________________________________________________________\n",
      "dense_1 (Dense)              multiple                  16781312  \n",
      "_________________________________________________________________\n",
      "dense_2 (Dense)              multiple                  4097000   \n",
      "_________________________________________________________________\n",
      "dense_3 (Dense)              multiple                  500500    \n",
      "_________________________________________________________________\n",
      "dense_4 (Dense)              multiple                  50100     \n",
      "_________________________________________________________________\n",
      "dense_5 (Dense)              multiple                  505       \n",
      "=================================================================\n",
      "Total params: 43,555,070\n",
      "Trainable params: 43,555,055\n",
      "Non-trainable params: 15\n",
      "_________________________________________________________________\n"
     ]
    }
   ],
   "source": [
    "model.summary()"
   ]
  },
  {
   "cell_type": "markdown",
   "metadata": {},
   "source": [
    "## Saving the model for backup"
   ]
  },
  {
   "cell_type": "code",
   "execution_count": 26,
   "metadata": {},
   "outputs": [],
   "source": [
    "model.save('model2_VGG19_untunable.h5')\n",
    "model.save('model3_VGG19_untunable.hdf5')"
   ]
  },
  {
   "cell_type": "code",
   "execution_count": null,
   "metadata": {},
   "outputs": [],
   "source": [
    "## load the history data if we stopped the model suddenly \n",
    "\n",
    "#log_data = pd.read_csv('training.log', sep=',', engine='python')\n"
   ]
  },
  {
   "cell_type": "code",
   "execution_count": 20,
   "metadata": {},
   "outputs": [],
   "source": [
    "##model2 = tf.keras.models.load_model('../input/testmodel2/model2_VGG19_untunable.h5')"
   ]
  },
  {
   "cell_type": "code",
   "execution_count": null,
   "metadata": {},
   "outputs": [],
   "source": [
    "##model.save('model2.h5')"
   ]
  },
  {
   "cell_type": "code",
   "execution_count": null,
   "metadata": {},
   "outputs": [],
   "source": [
    "##model.save('model.hdf5')"
   ]
  },
  {
   "cell_type": "markdown",
   "metadata": {},
   "source": [
    "## Plot the History of the model"
   ]
  },
  {
   "cell_type": "code",
   "execution_count": 27,
   "metadata": {},
   "outputs": [],
   "source": [
    "## load the history data if we stopped the model suddenly \n",
    "\n",
    "history_frame = pd.read_csv('training.log', sep=',', engine='python')\n",
    "\n",
    "\n",
    "##history_frame = pd.read_csv('../input/testmodel2/training.log', sep=',', engine='python')"
   ]
  },
  {
   "cell_type": "code",
   "execution_count": 28,
   "metadata": {},
   "outputs": [
    {
     "data": {
      "image/png": "[encoded data removed]",
      "text/plain": [
       "<Figure size 432x288 with 1 Axes>"
      ]
     },
     "metadata": {
      "needs_background": "light"
     },
     "output_type": "display_data"
    },
    {
     "data": {
      "image/png": "[encoded data removed]",
      "text/plain": [
       "<Figure size 432x288 with 1 Axes>"
      ]
     },
     "metadata": {
      "needs_background": "light"
     },
     "output_type": "display_data"
    }
   ],
   "source": [
    "# create learning curves to evaluate model performance\n",
    "#history_frame = pd.DataFrame(history.history)\n",
    "history_frame.loc[:, ['loss', 'val_loss']].plot()\n",
    "history_frame.loc[:, ['sparse_categorical_accuracy', 'val_sparse_categorical_accuracy']].plot();"
   ]
  },
  {
   "cell_type": "markdown",
   "metadata": {},
   "source": [
    "# Some conclusions\n",
    "\n",
    "The maximum sparse_categorical_accuracy = 0.9627\n",
    "\n",
    "The maximum val_sparse_categorical_accuracy = 0.8406 \n",
    "    \n",
    "Which is not bad without balancing the data but we have also augmentation on the fly\n",
    "\n",
    "we have some over fitting on the trained model and also it predicts the test photo wrong"
   ]
  },
  {
   "cell_type": "code",
   "execution_count": 29,
   "metadata": {},
   "outputs": [],
   "source": [
    "# this code will convert our test image data to a float32 \n",
    "def to_float32(image, label):\n",
    "    return tf.cast(image, tf.float32), label"
   ]
  },
  {
   "cell_type": "markdown",
   "metadata": {},
   "source": [
    "# predict the test photo"
   ]
  },
  {
   "cell_type": "code",
   "execution_count": 30,
   "metadata": {},
   "outputs": [
    {
     "name": "stdout",
     "output_type": "stream",
     "text": [
      "Computing predictions...\n",
      "[4]\n"
     ]
    }
   ],
   "source": [
    "test_ds = get_test_dataset(ordered=True) \n",
    "test_ds = test_ds.map(to_float32)\n",
    "\n",
    "print('Computing predictions...')\n",
    "##test_images_ds = get_test_dataset()\n",
    "test_images_ds = test_ds.map(lambda image, idnum: image)\n",
    "probabilities = model.predict(test_images_ds)\n",
    "predictions = np.argmax(probabilities, axis=-1)\n",
    "print(predictions)"
   ]
  },
  {
   "cell_type": "markdown",
   "metadata": {},
   "source": [
    "# Getting the test label in a list "
   ]
  },
  {
   "cell_type": "code",
   "execution_count": 31,
   "metadata": {},
   "outputs": [],
   "source": [
    "# load our validation dataset labels\n",
    "y_test = []\n",
    "##x_test = []\n",
    "\n",
    "validation_dataset = get_validation_dataset()\n",
    "validation_dataset = validation_dataset.unbatch()##.batch(1)\n",
    "for image, label in validation_dataset:\n",
    "    ##x_test.append(image.numpy())\n",
    "    y_test.append(label.numpy())\n",
    "    \n"
   ]
  },
  {
   "cell_type": "code",
   "execution_count": null,
   "metadata": {},
   "outputs": [],
   "source": [
    "y_test"
   ]
  },
  {
   "cell_type": "markdown",
   "metadata": {},
   "source": [
    "# Getting the length of the test labels to make sure of there numbers"
   ]
  },
  {
   "cell_type": "code",
   "execution_count": 33,
   "metadata": {},
   "outputs": [
    {
     "data": {
      "text/plain": [
       "2676"
      ]
     },
     "execution_count": 33,
     "metadata": {},
     "output_type": "execute_result"
    }
   ],
   "source": [
    "len(y_test)"
   ]
  },
  {
   "cell_type": "markdown",
   "metadata": {},
   "source": [
    "# Brief exploratory data analysis (EDA)\n",
    "First we'll print out the shapes and labels for a sample of each of our three datasets:"
   ]
  },
  {
   "cell_type": "code",
   "execution_count": null,
   "metadata": {},
   "outputs": [],
   "source": [
    "'''\n",
    "print(\"Training data shapes:\")\n",
    "for image, label in get_training_dataset().take(3):\n",
    "    print(image.numpy().shape, label.numpy().shape)\n",
    "print(\"Training data label examples:\", label.numpy())\n",
    "print(\"Validation data shapes:\")\n",
    "for image, label in get_validation_dataset().take(3):\n",
    "    print(image.numpy().shape, label.numpy().shape)\n",
    "print(\"Validation data label examples:\", label.numpy())\n",
    "print(\"Test data shapes:\")\n",
    "for image, idnum in get_test_dataset().take(3):\n",
    "    print(image.numpy().shape, idnum.numpy().shape)\n",
    "print(\"Test data IDs:\", idnum.numpy().astype('U')) # U=unicode string\n",
    "'''"
   ]
  },
  {
   "cell_type": "markdown",
   "metadata": {},
   "source": [
    "# Getting the prediction of the validation set"
   ]
  },
  {
   "cell_type": "code",
   "execution_count": 34,
   "metadata": {},
   "outputs": [
    {
     "name": "stdout",
     "output_type": "stream",
     "text": [
      "[3 1 2 ... 3 0 3]\n"
     ]
    }
   ],
   "source": [
    "validation_dataset = get_validation_dataset()\n",
    "\n",
    "probabilities = model.predict(validation_dataset)\n",
    "predictions = np.argmax(probabilities, axis=-1)\n",
    "\n",
    "print(predictions)"
   ]
  },
  {
   "cell_type": "code",
   "execution_count": 56,
   "metadata": {},
   "outputs": [],
   "source": [
    "'''\n",
    "def get_train_dataset():\n",
    "    dataset = load_dataset(TRAINING_FILENAMES, labeled=True)  \n",
    "\n",
    "    dataset = dataset.batch(BATCH_SIZE)\n",
    "    dataset = dataset.prefetch(AUTOTUNE)\n",
    "    return dataset\n",
    "\n",
    "'''"
   ]
  },
  {
   "cell_type": "code",
   "execution_count": 57,
   "metadata": {},
   "outputs": [
    {
     "name": "stdout",
     "output_type": "stream",
     "text": [
      "[3 1 4 ... 3 4 4]\n"
     ]
    }
   ],
   "source": [
    "'''\n",
    "train_dataset = get_train_dataset()\n",
    "\n",
    "train_probabilities = model.predict(train_dataset)\n",
    "train_predictions = np.argmax(train_probabilities, axis=-1)\n",
    "\n",
    "print(train_predictions)\n",
    "'''"
   ]
  },
  {
   "cell_type": "code",
   "execution_count": 58,
   "metadata": {},
   "outputs": [],
   "source": [
    "'''\n",
    "# load our validation dataset for EDA\n",
    "y_train = []\n",
    "##x_test = []\n",
    "\n",
    "train_dataset = get_train_dataset()\n",
    "train_dataset = train_dataset.unbatch()##.batch(1)\n",
    "for image, label in train_dataset:\n",
    "    ##x_test.append(image.numpy())\n",
    "    y_train.append(label.numpy())\n",
    "'''"
   ]
  },
  {
   "cell_type": "code",
   "execution_count": 59,
   "metadata": {},
   "outputs": [
    {
     "data": {
      "text/plain": [
       "16045"
      ]
     },
     "execution_count": 59,
     "metadata": {},
     "output_type": "execute_result"
    }
   ],
   "source": [
    "##len(y_train)"
   ]
  },
  {
   "cell_type": "markdown",
   "metadata": {},
   "source": [
    "# Some libraries for plotting"
   ]
  },
  {
   "cell_type": "code",
   "execution_count": 35,
   "metadata": {},
   "outputs": [],
   "source": [
    "import tempfile\n",
    "\n",
    "import matplotlib as mpl\n",
    "import matplotlib.pyplot as plt\n",
    "\n",
    "import seaborn as sns\n",
    "\n",
    "import sklearn\n",
    "from sklearn.metrics import confusion_matrix\n",
    "from sklearn.model_selection import train_test_split\n",
    "from sklearn.preprocessing import StandardScaler"
   ]
  },
  {
   "cell_type": "markdown",
   "metadata": {},
   "source": [
    "# Plotting the confusion Matrix\n",
    "\n",
    "Calculating the Recall and the Precision (Calculated manually after getting the concept for multicalasses classification)\n"
   ]
  },
  {
   "cell_type": "code",
   "execution_count": 36,
   "metadata": {},
   "outputs": [
    {
     "data": {
      "text/plain": [
       "\"\\nlabels = [0, 1, 2, 3, 4]\\n\\ncm = confusion_matrix(y_test, predictions)\\n\\nprint(cm)\\nfig = plt.figure()\\nax = fig.add_subplot(111)\\ncax = ax.matshow(cm)\\nplt.title('Confusion matrix of the classifier')\\nfig.colorbar(cax)\\nax.set_xticklabels([''] + labels)\\nax.set_yticklabels([''] + labels)\\nplt.xlabel('Predicted')\\nplt.ylabel('True')\\nplt.show()\\n\""
      ]
     },
     "execution_count": 36,
     "metadata": {},
     "output_type": "execute_result"
    }
   ],
   "source": [
    "from sklearn.metrics import confusion_matrix\n",
    "\n",
    "\n",
    "\n",
    "def plot_cm(labels, predictions):\n",
    "      cm = confusion_matrix(labels, predictions)\n",
    "      print(cm)\n",
    "      plt.figure(figsize=(5,5))\n",
    "      sns.heatmap(cm, annot=True, fmt=\"d\")\n",
    "      plt.title('Confusion matrix')\n",
    "      plt.ylabel('Actual label')\n",
    "      plt.xlabel('Predicted label')\n",
    "\n",
    "\n",
    "      rows = np.sum(cm, axis = 1) \n",
    "      cols = np.sum(cm, axis = 0) \n",
    "      recall_labels = []\n",
    "      Precision_labels = []\n",
    "\n",
    "      for i in range(len(CLASSES)):\n",
    "        recall_labels.append(cm[i][i]/rows[i])\n",
    "        Precision_labels.append(cm[i][i]/cols[i])\n",
    "        \n",
    "      print('recall labels = ')\n",
    "      print(recall_labels)\n",
    "      print(\"\")\n",
    "    \n",
    "      print('Precision labels = ')\n",
    "      print(Precision_labels)\n",
    "      print(\"\")\n",
    "\n",
    "      MACRO_AVERAGING_Recall = np.sum(recall_labels)/len(CLASSES)\n",
    "      MACRO_AVERAGING_Precision = np.sum(Precision_labels)/len(CLASSES)\n",
    "\n",
    "      print('MACRO AVERAGING Recall = ')\n",
    "      print(MACRO_AVERAGING_Recall)\n",
    "      print(\"\")\n",
    "    \n",
    "      print('MACRO AVERAGING Precision = ')\n",
    "      print(MACRO_AVERAGING_Precision)\n",
    "      print(\"\")\n",
    "        \n",
    "  \n",
    "\n",
    "\n",
    "\n",
    "'''\n",
    "labels = [0, 1, 2, 3, 4]\n",
    "\n",
    "cm = confusion_matrix(y_test, predictions)\n",
    "\n",
    "print(cm)\n",
    "fig = plt.figure()\n",
    "ax = fig.add_subplot(111)\n",
    "cax = ax.matshow(cm)\n",
    "plt.title('Confusion matrix of the classifier')\n",
    "fig.colorbar(cax)\n",
    "ax.set_xticklabels([''] + labels)\n",
    "ax.set_yticklabels([''] + labels)\n",
    "plt.xlabel('Predicted')\n",
    "plt.ylabel('True')\n",
    "plt.show()\n",
    "'''"
   ]
  },
  {
   "cell_type": "code",
   "execution_count": 37,
   "metadata": {},
   "outputs": [
    {
     "name": "stdout",
     "output_type": "stream",
     "text": [
      "[[   9   11   12   65   28]\n",
      " [  17   27   19  161   54]\n",
      " [  19   31   30  173   64]\n",
      " [  92  147  139 1012  235]\n",
      " [  23   29   27  190   62]]\n",
      "recall labels = \n",
      "[0.072, 0.09712230215827339, 0.0946372239747634, 0.6227692307692307, 0.18731117824773413]\n",
      "\n",
      "Precision labels = \n",
      "[0.05625, 0.11020408163265306, 0.13215859030837004, 0.63210493441599, 0.1399548532731377]\n",
      "\n",
      "MACRO AVERAGING Recall = \n",
      "0.21476798703000033\n",
      "\n",
      "MACRO AVERAGING Precision = \n",
      "0.21413449192603018\n",
      "\n"
     ]
    },
    {
     "data": {
      "image/png": "[encoded data removed]",
      "text/plain": [
       "<Figure size 360x360 with 2 Axes>"
      ]
     },
     "metadata": {
      "needs_background": "light"
     },
     "output_type": "display_data"
    }
   ],
   "source": [
    "plot_cm(y_test, predictions)"
   ]
  },
  {
   "cell_type": "code",
   "execution_count": 89,
   "metadata": {},
   "outputs": [
    {
     "name": "stderr",
     "output_type": "stream",
     "text": [
      "/opt/conda/lib/python3.7/site-packages/ipykernel_launcher.py:8: RuntimeWarning: invalid value encountered in long_scalars\n",
      "  \n"
     ]
    }
   ],
   "source": [
    "##manually getting the Precision and recall but we put them up in the function of plot cm\n",
    "'''\n",
    "rows = np.sum(cm, axis = 1) \n",
    "cols = np.sum(cm, axis = 0) \n",
    "recall_labels = []\n",
    "Precision_labels = []\n",
    "\n",
    "for i in range(len(CLASSES)):\n",
    "    recall_labels.append(cm[i][i]/rows[i])\n",
    "    Precision_labels.append(cm[i][i]/cols[i])\n",
    "    \n",
    "print(recall_labels)\n",
    "print(Precision_labels)\n",
    "\n",
    "MACRO_AVERAGING_Recall = np.sum(recall_labels)/len(CLASSES)\n",
    "MACRO_AVERAGING_Precision = np.sum(Precision_labels)/len(CLASSES)\n",
    "\n",
    "print(MACRO_AVERAGING_Recall)\n",
    "print(MACRO_AVERAGING_Precision)\n",
    "'''\n"
   ]
  },
  {
   "cell_type": "markdown",
   "metadata": {},
   "source": [
    "# Plotting the ROC Curve\n",
    "\n",
    "1st trying for Binary classification"
   ]
  },
  {
   "cell_type": "code",
   "execution_count": 40,
   "metadata": {},
   "outputs": [
    {
     "data": {
      "image/png": "[encoded data removed]",
      "text/plain": [
       "<Figure size 432x288 with 1 Axes>"
      ]
     },
     "metadata": {
      "needs_background": "light"
     },
     "output_type": "display_data"
    }
   ],
   "source": [
    "from sklearn.metrics import roc_curve, auc, roc_auc_score\n",
    "from sklearn.preprocessing  import label_binarize\n",
    "# from scipy import interp\n",
    "\n",
    "n_classes = len(CLASSES)\n",
    "\n",
    "# Binarize the output \n",
    "true_labels_l_b = label_binarize(y_test, classes=range(n_classes))\n",
    "# Y_pred_b = label_binarize(Y_pred, classes=CLASSES)\n",
    "Y_pred_b = label_binarize(predictions, classes=range(n_classes))\n",
    "\n",
    "# Compute ROC curve and ROC area for each class\n",
    "fpr = dict()\n",
    "tpr = dict()\n",
    "roc_auc = dict()\n",
    "for i in range(n_classes):\n",
    "    fpr[i], tpr[i], _ = roc_curve(true_labels_l_b[:,i], Y_pred_b[:, i])\n",
    "    roc_auc[i] = auc(fpr[i], tpr[i])\n",
    "\n",
    "# Compute micro-average ROC curve and ROC area\n",
    "fpr[\"micro\"], tpr[\"micro\"], _ = roc_curve(true_labels_l_b.ravel(), Y_pred_b.ravel())\n",
    "roc_auc[\"micro\"] = auc(fpr[\"micro\"], tpr[\"micro\"])\n",
    "\n",
    "\n",
    "\n",
    "#Plot of a ROC curve for a specific class\n",
    "\n",
    "plt.figure()\n",
    "lw = 2\n",
    "plt.plot(fpr[2], tpr[2], color='darkorange',\n",
    "         lw=lw, label='ROC curve (area = %0.2f)' % roc_auc[2])\n",
    "plt.plot([0, 1], [0, 1], color='navy', lw=lw, linestyle='--')\n",
    "plt.xlim([0.0, 1.0])\n",
    "plt.ylim([0.0, 1.05])\n",
    "plt.xlabel('False Positive Rate')\n",
    "plt.ylabel('True Positive Rate')\n",
    "plt.title('Receiver operating characteristic example')\n",
    "plt.legend(loc=\"lower right\")\n",
    "plt.show()"
   ]
  },
  {
   "cell_type": "markdown",
   "metadata": {},
   "source": [
    "# 2nd  or multiclasses classification"
   ]
  },
  {
   "cell_type": "code",
   "execution_count": 41,
   "metadata": {},
   "outputs": [
    {
     "data": {
      "image/png": "[encoded data removed]",
      "text/plain": [
       "<Figure size 720x720 with 1 Axes>"
      ]
     },
     "metadata": {
      "needs_background": "light"
     },
     "output_type": "display_data"
    }
   ],
   "source": [
    "import itertools\n",
    "\n",
    "target_names = ['(CBB)','Brown Streak Disease (CBSD) ','Green Mottle (CGM) ','Mosaic Disease (CMD) ','Healthy ']\n",
    "\n",
    "# First aggregate all false positive rates\n",
    "all_fpr = np.unique(np.concatenate([fpr[i] for i in range(n_classes)]))\n",
    "\n",
    "# Then interpolate all ROC curves at this points\n",
    "mean_tpr = np.zeros_like(all_fpr)\n",
    "for i in range(n_classes):\n",
    "    mean_tpr += np.interp(all_fpr, fpr[i], tpr[i])\n",
    "\n",
    "# Finally average it and compute AUC\n",
    "mean_tpr /= n_classes\n",
    "\n",
    "fpr[\"macro\"] = all_fpr\n",
    "tpr[\"macro\"] = mean_tpr\n",
    "roc_auc[\"macro\"] = auc(fpr[\"macro\"], tpr[\"macro\"])\n",
    "\n",
    "# Plot all ROC curves\n",
    "plt.figure(figsize = (10,10))\n",
    "\n",
    "plt.plot(fpr[\"micro\"], tpr[\"micro\"],\n",
    "         label='micro-average ROC curve (area = {0:0.2f})'\n",
    "               ''.format(roc_auc[\"micro\"]),\n",
    "         color='deeppink', linestyle=':', linewidth=4)\n",
    "\n",
    "plt.plot(fpr[\"macro\"], tpr[\"macro\"],\n",
    "         label='macro-average ROC curve (area = {0:0.2f})'\n",
    "               ''.format(roc_auc[\"macro\"]),\n",
    "         color='navy', linestyle=':', linewidth=4)\n",
    "\n",
    "colors = itertools.cycle(['aqua', 'darkorange', 'cornflowerblue'])\n",
    "for i, color in zip(range(n_classes), colors):\n",
    "    plt.plot(fpr[i], tpr[i], color=color, lw=lw,\n",
    "             label='ROC curve of class {0} (area = {1:0.2f})'\n",
    "             ''.format(target_names[i], roc_auc[i]))\n",
    "\n",
    "plt.plot([0, 1], [0, 1], 'k--', lw=lw)\n",
    "plt.xlim([0.0, 1.0])\n",
    "plt.ylim([0.0, 1.05])\n",
    "plt.xlabel('False Positive Rate')\n",
    "plt.ylabel('True Positive Rate')\n",
    "plt.title('Some extension of Receiver operating characteristic to multi-class')\n",
    "plt.legend(loc=\"lower right\")\n",
    "plt.show()"
   ]
  },
  {
   "cell_type": "markdown",
   "metadata": {},
   "source": [
    "# Parameters that will be changed during comparisons\n",
    "\n",
    "# Case 2 :\n",
    "\n",
    "Transfer layer VGG19\n",
    "\n",
    "The parameters are Tunable (trainable = True) \n",
    "\n",
    "Fixed learning rate\n"
   ]
  },
  {
   "cell_type": "code",
   "execution_count": 42,
   "metadata": {},
   "outputs": [
    {
     "data": {
      "text/plain": [
       "\"\\n        metrics2=['categorical_accuracy',\\n                           tf.keras.metrics.Precision(name='Precision'),\\n                           tf.keras.metrics.Recall(name='Recall')])\\n                           \\n                           'sparse_categorical_accuracy'\\n                           metrics=['sparse_categorical_accuracy'])\\n                            metrics=['sparse_categorical_accuracy',tf.keras.metrics.AUC()])\\n\""
      ]
     },
     "execution_count": 42,
     "metadata": {},
     "output_type": "execute_result"
    }
   ],
   "source": [
    "\n",
    "from keras.applications.vgg19 import preprocess_input\n",
    "\n",
    "#tf.keras.applications.vgg19.preprocess_input\n",
    "\n",
    "\n",
    "with strategy.scope():       \n",
    "    ##img_adjust_layer = tf.keras.layers.Lambda(tf.keras.applications.vgg16.preprocess_input, input_shape=[512,512, 3])\n",
    "    \n",
    "    base_model = tf.keras.applications.VGG19(\n",
    "    include_top=False,\n",
    "    weights=\"imagenet\",\n",
    "    input_tensor= None,\n",
    "    input_shape=[512,512, 3],\n",
    "    pooling=None,\n",
    "    classes=5,\n",
    "    classifier_activation=\"softmax\")\n",
    "    \n",
    "    base_model.trainable = True\n",
    "    \n",
    "    \n",
    "    model = tf.keras.Sequential([\n",
    "        tf.keras.layers.BatchNormalization(renorm=True),\n",
    "        ##img_adjust_layer,\n",
    "        base_model,\n",
    "        tf.keras.layers.GlobalAveragePooling2D(),\n",
    "        \n",
    "        tf.keras.layers.Flatten(),\n",
    "        tf.keras.layers.Dense(units=4096,activation=\"relu\"),\n",
    "        tf.keras.layers.Dense(units=4096,activation=\"relu\"),\n",
    "        tf.keras.layers.Dense(units=1000,activation=\"relu\"),\n",
    "        tf.keras.layers.Dense(units=500,activation=\"relu\"),\n",
    "        tf.keras.layers.Dense(units=100,activation=\"relu\"),\n",
    "        tf.keras.layers.Dense(units=5, activation=\"softmax\") \n",
    "        \n",
    "    ])\n",
    "    \n",
    "    model.compile(\n",
    "        optimizer=tf.keras.optimizers.Adam(learning_rate=0.0001, epsilon=0.001),\n",
    "        loss='sparse_categorical_crossentropy',\n",
    "        metrics=['sparse_categorical_accuracy'])\n",
    "        \n",
    "\n",
    "'''\n",
    "        metrics2=['categorical_accuracy',\n",
    "                           tf.keras.metrics.Precision(name='Precision'),\n",
    "                           tf.keras.metrics.Recall(name='Recall')])\n",
    "                           \n",
    "                           'sparse_categorical_accuracy'\n",
    "                           metrics=['sparse_categorical_accuracy'])\n",
    "                            metrics=['sparse_categorical_accuracy',tf.keras.metrics.AUC()])\n",
    "'''"
   ]
  },
  {
   "cell_type": "code",
   "execution_count": 43,
   "metadata": {},
   "outputs": [],
   "source": [
    "# load data\n",
    "train_dataset = get_training_dataset()\n",
    "valid_dataset = get_validation_dataset()"
   ]
  },
  {
   "cell_type": "code",
   "execution_count": 55,
   "metadata": {},
   "outputs": [],
   "source": [
    "from keras.callbacks import CSVLogger\n",
    "\n",
    "##csv_logger = CSVLogger('training.log', separator=',', append=False)\n"
   ]
  },
  {
   "cell_type": "code",
   "execution_count": 45,
   "metadata": {},
   "outputs": [],
   "source": [
    "from tensorflow.keras.callbacks import EarlyStopping, ModelCheckpoint\n",
    "\n",
    "keras_callbacks   = [EarlyStopping(monitor='val_loss', patience=30, mode='min', min_delta=0.0001),\n",
    "    ModelCheckpoint('mymodel.h5', monitor='val_loss', verbose=1,\n",
    "    save_best_only=True, save_weights_only=True, mode='auto', period=1),\n",
    "    CSVLogger('training.log', separator=',', append=False)\n",
    "    \n",
    "]\n",
    "\n",
    "##save_best_only=True"
   ]
  },
  {
   "cell_type": "code",
   "execution_count": 46,
   "metadata": {},
   "outputs": [
    {
     "name": "stdout",
     "output_type": "stream",
     "text": [
      "Epoch 1/300\n",
      "146/146 [==============================] - ETA: 0s - loss: 0.9714 - sparse_categorical_accuracy: 0.6438\n",
      "Epoch 00001: val_loss improved from inf to 1.04248, saving model to mymodel.h5\n",
      "146/146 [==============================] - 68s 466ms/step - loss: 0.9714 - sparse_categorical_accuracy: 0.6438 - val_loss: 1.0425 - val_sparse_categorical_accuracy: 0.6270\n",
      "Epoch 2/300\n",
      "146/146 [==============================] - ETA: 0s - loss: 0.7117 - sparse_categorical_accuracy: 0.7360\n",
      "Epoch 00002: val_loss improved from 1.04248 to 0.54454, saving model to mymodel.h5\n",
      "146/146 [==============================] - 58s 394ms/step - loss: 0.7117 - sparse_categorical_accuracy: 0.7360 - val_loss: 0.5445 - val_sparse_categorical_accuracy: 0.8074\n",
      "Epoch 3/300\n",
      "146/146 [==============================] - ETA: 0s - loss: 0.5122 - sparse_categorical_accuracy: 0.8219\n",
      "Epoch 00003: val_loss improved from 0.54454 to 0.48599, saving model to mymodel.h5\n",
      "146/146 [==============================] - 58s 394ms/step - loss: 0.5122 - sparse_categorical_accuracy: 0.8219 - val_loss: 0.4860 - val_sparse_categorical_accuracy: 0.8238\n",
      "Epoch 4/300\n",
      "146/146 [==============================] - ETA: 0s - loss: 0.4632 - sparse_categorical_accuracy: 0.8395\n",
      "Epoch 00004: val_loss improved from 0.48599 to 0.43939, saving model to mymodel.h5\n",
      "146/146 [==============================] - 58s 396ms/step - loss: 0.4632 - sparse_categorical_accuracy: 0.8395 - val_loss: 0.4394 - val_sparse_categorical_accuracy: 0.8543\n",
      "Epoch 5/300\n",
      "146/146 [==============================] - ETA: 0s - loss: 0.4177 - sparse_categorical_accuracy: 0.8597\n",
      "Epoch 00005: val_loss did not improve from 0.43939\n",
      "146/146 [==============================] - 57s 389ms/step - loss: 0.4177 - sparse_categorical_accuracy: 0.8597 - val_loss: 0.4479 - val_sparse_categorical_accuracy: 0.8426\n",
      "Epoch 6/300\n",
      "146/146 [==============================] - ETA: 0s - loss: 0.3971 - sparse_categorical_accuracy: 0.8639\n",
      "Epoch 00006: val_loss improved from 0.43939 to 0.42011, saving model to mymodel.h5\n",
      "146/146 [==============================] - 58s 397ms/step - loss: 0.3971 - sparse_categorical_accuracy: 0.8639 - val_loss: 0.4201 - val_sparse_categorical_accuracy: 0.8535\n",
      "Epoch 7/300\n",
      "146/146 [==============================] - ETA: 0s - loss: 0.3665 - sparse_categorical_accuracy: 0.8737\n",
      "Epoch 00007: val_loss improved from 0.42011 to 0.39209, saving model to mymodel.h5\n",
      "146/146 [==============================] - 57s 394ms/step - loss: 0.3665 - sparse_categorical_accuracy: 0.8737 - val_loss: 0.3921 - val_sparse_categorical_accuracy: 0.8691\n",
      "Epoch 8/300\n",
      "146/146 [==============================] - ETA: 0s - loss: 0.3630 - sparse_categorical_accuracy: 0.8759\n",
      "Epoch 00008: val_loss improved from 0.39209 to 0.37707, saving model to mymodel.h5\n",
      "146/146 [==============================] - 58s 397ms/step - loss: 0.3630 - sparse_categorical_accuracy: 0.8759 - val_loss: 0.3771 - val_sparse_categorical_accuracy: 0.8734\n",
      "Epoch 9/300\n",
      "146/146 [==============================] - ETA: 0s - loss: 0.3495 - sparse_categorical_accuracy: 0.8801\n",
      "Epoch 00009: val_loss did not improve from 0.37707\n",
      "146/146 [==============================] - 57s 391ms/step - loss: 0.3495 - sparse_categorical_accuracy: 0.8801 - val_loss: 0.3866 - val_sparse_categorical_accuracy: 0.8707\n",
      "Epoch 10/300\n",
      "146/146 [==============================] - ETA: 0s - loss: 0.3292 - sparse_categorical_accuracy: 0.8873\n",
      "Epoch 00010: val_loss did not improve from 0.37707\n",
      "146/146 [==============================] - 57s 391ms/step - loss: 0.3292 - sparse_categorical_accuracy: 0.8873 - val_loss: 0.3933 - val_sparse_categorical_accuracy: 0.8652\n",
      "Epoch 11/300\n",
      "146/146 [==============================] - ETA: 0s - loss: 0.3225 - sparse_categorical_accuracy: 0.8899\n",
      "Epoch 00011: val_loss did not improve from 0.37707\n",
      "146/146 [==============================] - 57s 389ms/step - loss: 0.3225 - sparse_categorical_accuracy: 0.8899 - val_loss: 0.3818 - val_sparse_categorical_accuracy: 0.8672\n",
      "Epoch 12/300\n",
      "146/146 [==============================] - ETA: 0s - loss: 0.3210 - sparse_categorical_accuracy: 0.8900\n",
      "Epoch 00012: val_loss did not improve from 0.37707\n",
      "146/146 [==============================] - 57s 390ms/step - loss: 0.3210 - sparse_categorical_accuracy: 0.8900 - val_loss: 0.4002 - val_sparse_categorical_accuracy: 0.8629\n",
      "Epoch 13/300\n",
      "146/146 [==============================] - ETA: 0s - loss: 0.3063 - sparse_categorical_accuracy: 0.8956\n",
      "Epoch 00013: val_loss improved from 0.37707 to 0.36467, saving model to mymodel.h5\n",
      "146/146 [==============================] - 58s 397ms/step - loss: 0.3063 - sparse_categorical_accuracy: 0.8956 - val_loss: 0.3647 - val_sparse_categorical_accuracy: 0.8746\n",
      "Epoch 14/300\n",
      "146/146 [==============================] - ETA: 0s - loss: 0.2963 - sparse_categorical_accuracy: 0.8988\n",
      "Epoch 00014: val_loss did not improve from 0.36467\n",
      "146/146 [==============================] - 57s 390ms/step - loss: 0.2963 - sparse_categorical_accuracy: 0.8988 - val_loss: 0.3785 - val_sparse_categorical_accuracy: 0.8672\n",
      "Epoch 15/300\n",
      "146/146 [==============================] - ETA: 0s - loss: 0.2736 - sparse_categorical_accuracy: 0.9082\n",
      "Epoch 00015: val_loss did not improve from 0.36467\n",
      "146/146 [==============================] - 57s 391ms/step - loss: 0.2736 - sparse_categorical_accuracy: 0.9082 - val_loss: 0.3834 - val_sparse_categorical_accuracy: 0.8734\n",
      "Epoch 16/300\n",
      "146/146 [==============================] - ETA: 0s - loss: 0.2617 - sparse_categorical_accuracy: 0.9118\n",
      "Epoch 00016: val_loss did not improve from 0.36467\n",
      "146/146 [==============================] - 57s 390ms/step - loss: 0.2617 - sparse_categorical_accuracy: 0.9118 - val_loss: 0.3820 - val_sparse_categorical_accuracy: 0.8707\n",
      "Epoch 17/300\n",
      "146/146 [==============================] - ETA: 0s - loss: 0.2614 - sparse_categorical_accuracy: 0.9102\n",
      "Epoch 00017: val_loss did not improve from 0.36467\n",
      "146/146 [==============================] - 57s 390ms/step - loss: 0.2614 - sparse_categorical_accuracy: 0.9102 - val_loss: 0.4017 - val_sparse_categorical_accuracy: 0.8648\n",
      "Epoch 18/300\n",
      "146/146 [==============================] - ETA: 0s - loss: 0.2550 - sparse_categorical_accuracy: 0.9123\n",
      "Epoch 00018: val_loss did not improve from 0.36467\n",
      "146/146 [==============================] - 57s 392ms/step - loss: 0.2550 - sparse_categorical_accuracy: 0.9123 - val_loss: 0.3744 - val_sparse_categorical_accuracy: 0.8715\n",
      "Epoch 19/300\n",
      "146/146 [==============================] - ETA: 0s - loss: 0.2296 - sparse_categorical_accuracy: 0.9225\n",
      "Epoch 00019: val_loss did not improve from 0.36467\n",
      "146/146 [==============================] - 57s 390ms/step - loss: 0.2296 - sparse_categorical_accuracy: 0.9225 - val_loss: 0.4552 - val_sparse_categorical_accuracy: 0.8574\n",
      "Epoch 20/300\n",
      "146/146 [==============================] - ETA: 0s - loss: 0.2247 - sparse_categorical_accuracy: 0.9244\n",
      "Epoch 00020: val_loss did not improve from 0.36467\n",
      "146/146 [==============================] - 57s 391ms/step - loss: 0.2247 - sparse_categorical_accuracy: 0.9244 - val_loss: 0.3962 - val_sparse_categorical_accuracy: 0.8746\n",
      "Epoch 21/300\n",
      "146/146 [==============================] - ETA: 0s - loss: 0.2014 - sparse_categorical_accuracy: 0.9334\n",
      "Epoch 00021: val_loss did not improve from 0.36467\n",
      "146/146 [==============================] - 57s 391ms/step - loss: 0.2014 - sparse_categorical_accuracy: 0.9334 - val_loss: 0.4068 - val_sparse_categorical_accuracy: 0.8762\n",
      "Epoch 22/300\n",
      "146/146 [==============================] - ETA: 0s - loss: 0.2165 - sparse_categorical_accuracy: 0.9269\n",
      "Epoch 00022: val_loss did not improve from 0.36467\n",
      "146/146 [==============================] - 57s 391ms/step - loss: 0.2165 - sparse_categorical_accuracy: 0.9269 - val_loss: 0.4163 - val_sparse_categorical_accuracy: 0.8699\n",
      "Epoch 23/300\n",
      "146/146 [==============================] - ETA: 0s - loss: 0.1931 - sparse_categorical_accuracy: 0.9356\n",
      "Epoch 00023: val_loss did not improve from 0.36467\n",
      "146/146 [==============================] - 57s 391ms/step - loss: 0.1931 - sparse_categorical_accuracy: 0.9356 - val_loss: 0.4140 - val_sparse_categorical_accuracy: 0.8754\n",
      "Epoch 24/300\n",
      "146/146 [==============================] - ETA: 0s - loss: 0.1875 - sparse_categorical_accuracy: 0.9363\n",
      "Epoch 00024: val_loss did not improve from 0.36467\n",
      "146/146 [==============================] - 57s 390ms/step - loss: 0.1875 - sparse_categorical_accuracy: 0.9363 - val_loss: 0.4514 - val_sparse_categorical_accuracy: 0.8625\n",
      "Epoch 25/300\n",
      "146/146 [==============================] - ETA: 0s - loss: 0.1738 - sparse_categorical_accuracy: 0.9419\n",
      "Epoch 00025: val_loss did not improve from 0.36467\n",
      "146/146 [==============================] - 57s 392ms/step - loss: 0.1738 - sparse_categorical_accuracy: 0.9419 - val_loss: 0.4566 - val_sparse_categorical_accuracy: 0.8648\n",
      "Epoch 26/300\n",
      "146/146 [==============================] - ETA: 0s - loss: 0.1481 - sparse_categorical_accuracy: 0.9501\n",
      "Epoch 00026: val_loss did not improve from 0.36467\n",
      "146/146 [==============================] - 57s 389ms/step - loss: 0.1481 - sparse_categorical_accuracy: 0.9501 - val_loss: 0.4731 - val_sparse_categorical_accuracy: 0.8656\n",
      "Epoch 27/300\n",
      "146/146 [==============================] - ETA: 0s - loss: 0.1431 - sparse_categorical_accuracy: 0.9526\n",
      "Epoch 00027: val_loss did not improve from 0.36467\n",
      "146/146 [==============================] - 57s 392ms/step - loss: 0.1431 - sparse_categorical_accuracy: 0.9526 - val_loss: 0.5035 - val_sparse_categorical_accuracy: 0.8605\n",
      "Epoch 28/300\n",
      "146/146 [==============================] - ETA: 0s - loss: 0.1390 - sparse_categorical_accuracy: 0.9545\n",
      "Epoch 00028: val_loss did not improve from 0.36467\n",
      "146/146 [==============================] - 57s 391ms/step - loss: 0.1390 - sparse_categorical_accuracy: 0.9545 - val_loss: 0.5037 - val_sparse_categorical_accuracy: 0.8652\n",
      "Epoch 29/300\n",
      "146/146 [==============================] - ETA: 0s - loss: 0.1246 - sparse_categorical_accuracy: 0.9597\n",
      "Epoch 00029: val_loss did not improve from 0.36467\n",
      "146/146 [==============================] - 57s 390ms/step - loss: 0.1246 - sparse_categorical_accuracy: 0.9597 - val_loss: 0.5102 - val_sparse_categorical_accuracy: 0.8629\n",
      "Epoch 30/300\n",
      "146/146 [==============================] - ETA: 0s - loss: 0.1256 - sparse_categorical_accuracy: 0.9577\n",
      "Epoch 00030: val_loss did not improve from 0.36467\n",
      "146/146 [==============================] - 57s 390ms/step - loss: 0.1256 - sparse_categorical_accuracy: 0.9577 - val_loss: 0.4937 - val_sparse_categorical_accuracy: 0.8551\n",
      "Epoch 31/300\n",
      "146/146 [==============================] - ETA: 0s - loss: 0.1180 - sparse_categorical_accuracy: 0.9613\n",
      "Epoch 00031: val_loss did not improve from 0.36467\n",
      "146/146 [==============================] - 57s 392ms/step - loss: 0.1180 - sparse_categorical_accuracy: 0.9613 - val_loss: 0.5252 - val_sparse_categorical_accuracy: 0.8648\n",
      "Epoch 32/300\n",
      "146/146 [==============================] - ETA: 0s - loss: 0.0861 - sparse_categorical_accuracy: 0.9719\n",
      "Epoch 00032: val_loss did not improve from 0.36467\n",
      "146/146 [==============================] - 57s 393ms/step - loss: 0.0861 - sparse_categorical_accuracy: 0.9719 - val_loss: 0.5628 - val_sparse_categorical_accuracy: 0.8559\n",
      "Epoch 33/300\n",
      "146/146 [==============================] - ETA: 0s - loss: 0.1064 - sparse_categorical_accuracy: 0.9644\n",
      "Epoch 00033: val_loss did not improve from 0.36467\n",
      "146/146 [==============================] - 57s 392ms/step - loss: 0.1064 - sparse_categorical_accuracy: 0.9644 - val_loss: 0.5604 - val_sparse_categorical_accuracy: 0.8637\n",
      "Epoch 34/300\n",
      "146/146 [==============================] - ETA: 0s - loss: 0.0747 - sparse_categorical_accuracy: 0.9749\n",
      "Epoch 00034: val_loss did not improve from 0.36467\n",
      "146/146 [==============================] - 57s 389ms/step - loss: 0.0747 - sparse_categorical_accuracy: 0.9749 - val_loss: 0.6129 - val_sparse_categorical_accuracy: 0.8699\n",
      "Epoch 35/300\n",
      "146/146 [==============================] - ETA: 0s - loss: 0.0773 - sparse_categorical_accuracy: 0.9739\n",
      "Epoch 00035: val_loss did not improve from 0.36467\n",
      "146/146 [==============================] - 57s 390ms/step - loss: 0.0773 - sparse_categorical_accuracy: 0.9739 - val_loss: 0.5998 - val_sparse_categorical_accuracy: 0.8637\n",
      "Epoch 36/300\n",
      "146/146 [==============================] - ETA: 0s - loss: 0.0827 - sparse_categorical_accuracy: 0.9714\n",
      "Epoch 00036: val_loss did not improve from 0.36467\n",
      "146/146 [==============================] - 57s 391ms/step - loss: 0.0827 - sparse_categorical_accuracy: 0.9714 - val_loss: 0.6047 - val_sparse_categorical_accuracy: 0.8555\n",
      "Epoch 37/300\n",
      "146/146 [==============================] - ETA: 0s - loss: 0.0644 - sparse_categorical_accuracy: 0.9793\n",
      "Epoch 00037: val_loss did not improve from 0.36467\n",
      "146/146 [==============================] - 57s 390ms/step - loss: 0.0644 - sparse_categorical_accuracy: 0.9793 - val_loss: 0.6072 - val_sparse_categorical_accuracy: 0.8582\n",
      "Epoch 38/300\n",
      "146/146 [==============================] - ETA: 0s - loss: 0.0776 - sparse_categorical_accuracy: 0.9739\n",
      "Epoch 00038: val_loss did not improve from 0.36467\n",
      "146/146 [==============================] - 57s 392ms/step - loss: 0.0776 - sparse_categorical_accuracy: 0.9739 - val_loss: 0.5990 - val_sparse_categorical_accuracy: 0.8598\n",
      "Epoch 39/300\n",
      "146/146 [==============================] - ETA: 0s - loss: 0.0609 - sparse_categorical_accuracy: 0.9796\n",
      "Epoch 00039: val_loss did not improve from 0.36467\n",
      "146/146 [==============================] - 57s 390ms/step - loss: 0.0609 - sparse_categorical_accuracy: 0.9796 - val_loss: 0.6595 - val_sparse_categorical_accuracy: 0.8613\n",
      "Epoch 40/300\n",
      "146/146 [==============================] - ETA: 0s - loss: 0.0531 - sparse_categorical_accuracy: 0.9818\n",
      "Epoch 00040: val_loss did not improve from 0.36467\n",
      "146/146 [==============================] - 57s 390ms/step - loss: 0.0531 - sparse_categorical_accuracy: 0.9818 - val_loss: 0.6234 - val_sparse_categorical_accuracy: 0.8629\n",
      "Epoch 41/300\n",
      "146/146 [==============================] - ETA: 0s - loss: 0.0487 - sparse_categorical_accuracy: 0.9839\n",
      "Epoch 00041: val_loss did not improve from 0.36467\n",
      "146/146 [==============================] - 57s 390ms/step - loss: 0.0487 - sparse_categorical_accuracy: 0.9839 - val_loss: 0.6778 - val_sparse_categorical_accuracy: 0.8637\n",
      "Epoch 42/300\n",
      "146/146 [==============================] - ETA: 0s - loss: 0.0524 - sparse_categorical_accuracy: 0.9820\n",
      "Epoch 00042: val_loss did not improve from 0.36467\n",
      "146/146 [==============================] - 57s 390ms/step - loss: 0.0524 - sparse_categorical_accuracy: 0.9820 - val_loss: 0.6535 - val_sparse_categorical_accuracy: 0.8562\n",
      "Epoch 43/300\n",
      "146/146 [==============================] - ETA: 0s - loss: 0.0556 - sparse_categorical_accuracy: 0.9820\n",
      "Epoch 00043: val_loss did not improve from 0.36467\n",
      "146/146 [==============================] - 57s 389ms/step - loss: 0.0556 - sparse_categorical_accuracy: 0.9820 - val_loss: 0.7209 - val_sparse_categorical_accuracy: 0.8605\n"
     ]
    }
   ],
   "source": [
    "STEPS_PER_EPOCH = NUM_TRAINING_IMAGES // BATCH_SIZE\n",
    "VALID_STEPS = NUM_VALIDATION_IMAGES // BATCH_SIZE\n",
    "\n",
    "history = model.fit(train_dataset, \n",
    "                    steps_per_epoch=STEPS_PER_EPOCH, \n",
    "                    epochs=EPOCHS,\n",
    "                    validation_data=valid_dataset,\n",
    "                    validation_steps=VALID_STEPS,\n",
    "                    callbacks=keras_callbacks)\n",
    "                   \n",
    "\n",
    "##model.save('mymodel.h5')"
   ]
  },
  {
   "cell_type": "code",
   "execution_count": 47,
   "metadata": {},
   "outputs": [
    {
     "name": "stdout",
     "output_type": "stream",
     "text": [
      "Model: \"sequential_1\"\n",
      "_________________________________________________________________\n",
      "Layer (type)                 Output Shape              Param #   \n",
      "=================================================================\n",
      "batch_normalization_1 (Batch multiple                  21        \n",
      "_________________________________________________________________\n",
      "vgg19 (Model)                (None, 16, 16, 512)       20024384  \n",
      "_________________________________________________________________\n",
      "global_average_pooling2d_1 ( multiple                  0         \n",
      "_________________________________________________________________\n",
      "flatten_1 (Flatten)          multiple                  0         \n",
      "_________________________________________________________________\n",
      "dense_6 (Dense)              multiple                  2101248   \n",
      "_________________________________________________________________\n",
      "dense_7 (Dense)              multiple                  16781312  \n",
      "_________________________________________________________________\n",
      "dense_8 (Dense)              multiple                  4097000   \n",
      "_________________________________________________________________\n",
      "dense_9 (Dense)              multiple                  500500    \n",
      "_________________________________________________________________\n",
      "dense_10 (Dense)             multiple                  50100     \n",
      "_________________________________________________________________\n",
      "dense_11 (Dense)             multiple                  505       \n",
      "=================================================================\n",
      "Total params: 43,555,070\n",
      "Trainable params: 43,555,055\n",
      "Non-trainable params: 15\n",
      "_________________________________________________________________\n"
     ]
    }
   ],
   "source": [
    "model.summary()"
   ]
  },
  {
   "cell_type": "code",
   "execution_count": 48,
   "metadata": {},
   "outputs": [],
   "source": [
    "model.save('model2_VGG19_untunable.h5')\n",
    "model.save('model3_VGG19_untunable.hdf5')"
   ]
  },
  {
   "cell_type": "code",
   "execution_count": 49,
   "metadata": {},
   "outputs": [],
   "source": [
    "## load the history data if we stopped the model suddenly \n",
    "\n",
    "#log_data = pd.read_csv('training.log', sep=',', engine='python')\n"
   ]
  },
  {
   "cell_type": "code",
   "execution_count": 50,
   "metadata": {},
   "outputs": [],
   "source": [
    "##model2 = tf.keras.models.load_model('../input/testmodel2/model2_VGG19_untunable.h5')"
   ]
  },
  {
   "cell_type": "code",
   "execution_count": 51,
   "metadata": {},
   "outputs": [],
   "source": [
    "##model.save('model2.h5')"
   ]
  },
  {
   "cell_type": "code",
   "execution_count": 52,
   "metadata": {},
   "outputs": [],
   "source": [
    "##model.save('model.hdf5')"
   ]
  },
  {
   "cell_type": "code",
   "execution_count": 53,
   "metadata": {},
   "outputs": [],
   "source": [
    "## load the history data if we stopped the model suddenly \n",
    "\n",
    "history_frame = pd.read_csv('training.log', sep=',', engine='python')\n",
    "\n",
    "\n",
    "##history_frame = pd.read_csv('../input/testmodel2/training.log', sep=',', engine='python')"
   ]
  },
  {
   "cell_type": "code",
   "execution_count": 54,
   "metadata": {},
   "outputs": [
    {
     "data": {
      "image/png": "[encoded data removed]",
      "text/plain": [
       "<Figure size 432x288 with 1 Axes>"
      ]
     },
     "metadata": {
      "needs_background": "light"
     },
     "output_type": "display_data"
    },
    {
     "data": {
      "image/png": "[encoded data removed]",
      "text/plain": [
       "<Figure size 432x288 with 1 Axes>"
      ]
     },
     "metadata": {
      "needs_background": "light"
     },
     "output_type": "display_data"
    }
   ],
   "source": [
    "# create learning curves to evaluate model performance\n",
    "#history_frame = pd.DataFrame(history.history)\n",
    "history_frame.loc[:, ['loss', 'val_loss']].plot()\n",
    "history_frame.loc[:, ['sparse_categorical_accuracy', 'val_sparse_categorical_accuracy']].plot();"
   ]
  },
  {
   "cell_type": "markdown",
   "metadata": {},
   "source": [
    "# Some conclusions\n",
    "\n",
    "The maximum sparse_categorical_accuracy around = 0.98\n",
    "\n",
    "The maximum val_sparse_categorical_accuracy around = 0.87\n",
    "    \n",
    "Which is not bad without balancing the data but we have also augmentation on the fly\n",
    "\n",
    "we have some over fitting on the trained model and also it predicts the test photo wrong\n",
    "\n",
    "But the validation accuracy increased this time compared to the above results"
   ]
  },
  {
   "cell_type": "code",
   "execution_count": 56,
   "metadata": {},
   "outputs": [],
   "source": [
    "# this code will convert our test image data to a float32 \n",
    "def to_float32(image, label):\n",
    "    return tf.cast(image, tf.float32), label"
   ]
  },
  {
   "cell_type": "code",
   "execution_count": 57,
   "metadata": {},
   "outputs": [
    {
     "name": "stdout",
     "output_type": "stream",
     "text": [
      "Computing predictions...\n",
      "[4]\n"
     ]
    }
   ],
   "source": [
    "test_ds = get_test_dataset(ordered=True) \n",
    "test_ds = test_ds.map(to_float32)\n",
    "\n",
    "print('Computing predictions...')\n",
    "##test_images_ds = get_test_dataset()\n",
    "test_images_ds = test_ds.map(lambda image, idnum: image)\n",
    "probabilities = model.predict(test_images_ds)\n",
    "predictions = np.argmax(probabilities, axis=-1)\n",
    "print(predictions)"
   ]
  },
  {
   "cell_type": "code",
   "execution_count": 58,
   "metadata": {},
   "outputs": [],
   "source": [
    "# load our validation dataset labels\n",
    "y_test = []\n",
    "##x_test = []\n",
    "\n",
    "validation_dataset = get_validation_dataset()\n",
    "validation_dataset = validation_dataset.unbatch()##.batch(1)\n",
    "for image, label in validation_dataset:\n",
    "    ##x_test.append(image.numpy())\n",
    "    y_test.append(label.numpy())\n",
    "    \n"
   ]
  },
  {
   "cell_type": "code",
   "execution_count": null,
   "metadata": {},
   "outputs": [],
   "source": [
    "y_test"
   ]
  },
  {
   "cell_type": "code",
   "execution_count": 60,
   "metadata": {},
   "outputs": [
    {
     "data": {
      "text/plain": [
       "2676"
      ]
     },
     "execution_count": 60,
     "metadata": {},
     "output_type": "execute_result"
    }
   ],
   "source": [
    "len(y_test)"
   ]
  },
  {
   "cell_type": "code",
   "execution_count": 61,
   "metadata": {},
   "outputs": [
    {
     "data": {
      "text/plain": [
       "'\\nprint(\"Training data shapes:\")\\nfor image, label in get_training_dataset().take(3):\\n    print(image.numpy().shape, label.numpy().shape)\\nprint(\"Training data label examples:\", label.numpy())\\nprint(\"Validation data shapes:\")\\nfor image, label in get_validation_dataset().take(3):\\n    print(image.numpy().shape, label.numpy().shape)\\nprint(\"Validation data label examples:\", label.numpy())\\nprint(\"Test data shapes:\")\\nfor image, idnum in get_test_dataset().take(3):\\n    print(image.numpy().shape, idnum.numpy().shape)\\nprint(\"Test data IDs:\", idnum.numpy().astype(\\'U\\')) # U=unicode string\\n'"
      ]
     },
     "execution_count": 61,
     "metadata": {},
     "output_type": "execute_result"
    }
   ],
   "source": [
    "'''\n",
    "print(\"Training data shapes:\")\n",
    "for image, label in get_training_dataset().take(3):\n",
    "    print(image.numpy().shape, label.numpy().shape)\n",
    "print(\"Training data label examples:\", label.numpy())\n",
    "print(\"Validation data shapes:\")\n",
    "for image, label in get_validation_dataset().take(3):\n",
    "    print(image.numpy().shape, label.numpy().shape)\n",
    "print(\"Validation data label examples:\", label.numpy())\n",
    "print(\"Test data shapes:\")\n",
    "for image, idnum in get_test_dataset().take(3):\n",
    "    print(image.numpy().shape, idnum.numpy().shape)\n",
    "print(\"Test data IDs:\", idnum.numpy().astype('U')) # U=unicode string\n",
    "'''"
   ]
  },
  {
   "cell_type": "code",
   "execution_count": 62,
   "metadata": {},
   "outputs": [
    {
     "name": "stdout",
     "output_type": "stream",
     "text": [
      "[3 1 2 ... 3 1 3]\n"
     ]
    }
   ],
   "source": [
    "validation_dataset = get_validation_dataset()\n",
    "\n",
    "probabilities = model.predict(validation_dataset)\n",
    "predictions = np.argmax(probabilities, axis=-1)\n",
    "\n",
    "print(predictions)"
   ]
  },
  {
   "cell_type": "code",
   "execution_count": null,
   "metadata": {},
   "outputs": [],
   "source": [
    "'''\n",
    "def get_train_dataset():\n",
    "    dataset = load_dataset(TRAINING_FILENAMES, labeled=True)  \n",
    "\n",
    "    dataset = dataset.batch(BATCH_SIZE)\n",
    "    dataset = dataset.prefetch(AUTOTUNE)\n",
    "    return dataset\n",
    "\n",
    "'''"
   ]
  },
  {
   "cell_type": "code",
   "execution_count": null,
   "metadata": {},
   "outputs": [],
   "source": [
    "'''\n",
    "train_dataset = get_train_dataset()\n",
    "\n",
    "train_probabilities = model.predict(train_dataset)\n",
    "train_predictions = np.argmax(train_probabilities, axis=-1)\n",
    "\n",
    "print(train_predictions)\n",
    "'''"
   ]
  },
  {
   "cell_type": "code",
   "execution_count": null,
   "metadata": {},
   "outputs": [],
   "source": [
    "'''\n",
    "# load our validation dataset for EDA\n",
    "y_train = []\n",
    "##x_test = []\n",
    "\n",
    "train_dataset = get_train_dataset()\n",
    "train_dataset = train_dataset.unbatch()##.batch(1)\n",
    "for image, label in train_dataset:\n",
    "    ##x_test.append(image.numpy())\n",
    "    y_train.append(label.numpy())\n",
    "'''"
   ]
  },
  {
   "cell_type": "code",
   "execution_count": null,
   "metadata": {},
   "outputs": [],
   "source": [
    "##len(y_train)"
   ]
  },
  {
   "cell_type": "code",
   "execution_count": 63,
   "metadata": {},
   "outputs": [],
   "source": [
    "import tempfile\n",
    "\n",
    "import matplotlib as mpl\n",
    "import matplotlib.pyplot as plt\n",
    "\n",
    "import seaborn as sns\n",
    "\n",
    "import sklearn\n",
    "from sklearn.metrics import confusion_matrix\n",
    "from sklearn.model_selection import train_test_split\n",
    "from sklearn.preprocessing import StandardScaler"
   ]
  },
  {
   "cell_type": "code",
   "execution_count": 64,
   "metadata": {},
   "outputs": [
    {
     "data": {
      "text/plain": [
       "\"\\nlabels = [0, 1, 2, 3, 4]\\n\\ncm = confusion_matrix(y_test, predictions)\\n\\nprint(cm)\\nfig = plt.figure()\\nax = fig.add_subplot(111)\\ncax = ax.matshow(cm)\\nplt.title('Confusion matrix of the classifier')\\nfig.colorbar(cax)\\nax.set_xticklabels([''] + labels)\\nax.set_yticklabels([''] + labels)\\nplt.xlabel('Predicted')\\nplt.ylabel('True')\\nplt.show()\\n\""
      ]
     },
     "execution_count": 64,
     "metadata": {},
     "output_type": "execute_result"
    }
   ],
   "source": [
    "from sklearn.metrics import confusion_matrix\n",
    "\n",
    "\n",
    "\n",
    "def plot_cm(labels, predictions):\n",
    "      cm = confusion_matrix(labels, predictions)\n",
    "      print(cm)\n",
    "      plt.figure(figsize=(5,5))\n",
    "      sns.heatmap(cm, annot=True, fmt=\"d\")\n",
    "      plt.title('Confusion matrix')\n",
    "      plt.ylabel('Actual label')\n",
    "      plt.xlabel('Predicted label')\n",
    "\n",
    "\n",
    "      rows = np.sum(cm, axis = 1) \n",
    "      cols = np.sum(cm, axis = 0) \n",
    "      recall_labels = []\n",
    "      Precision_labels = []\n",
    "\n",
    "      for i in range(len(CLASSES)):\n",
    "        recall_labels.append(cm[i][i]/rows[i])\n",
    "        Precision_labels.append(cm[i][i]/cols[i])\n",
    "        \n",
    "      print('recall labels = ')\n",
    "      print(recall_labels)\n",
    "      print(\"\")\n",
    "    \n",
    "      print('Precision labels = ')\n",
    "      print(Precision_labels)\n",
    "      print(\"\")\n",
    "\n",
    "      MACRO_AVERAGING_Recall = np.sum(recall_labels)/len(CLASSES)\n",
    "      MACRO_AVERAGING_Precision = np.sum(Precision_labels)/len(CLASSES)\n",
    "\n",
    "      print('MACRO AVERAGING Recall = ')\n",
    "      print(MACRO_AVERAGING_Recall)\n",
    "      print(\"\")\n",
    "    \n",
    "      print('MACRO AVERAGING Precision = ')\n",
    "      print(MACRO_AVERAGING_Precision)\n",
    "      print(\"\")\n",
    "        \n",
    "  \n",
    "\n",
    "\n",
    "\n",
    "'''\n",
    "labels = [0, 1, 2, 3, 4]\n",
    "\n",
    "cm = confusion_matrix(y_test, predictions)\n",
    "\n",
    "print(cm)\n",
    "fig = plt.figure()\n",
    "ax = fig.add_subplot(111)\n",
    "cax = ax.matshow(cm)\n",
    "plt.title('Confusion matrix of the classifier')\n",
    "fig.colorbar(cax)\n",
    "ax.set_xticklabels([''] + labels)\n",
    "ax.set_yticklabels([''] + labels)\n",
    "plt.xlabel('Predicted')\n",
    "plt.ylabel('True')\n",
    "plt.show()\n",
    "'''"
   ]
  },
  {
   "cell_type": "code",
   "execution_count": 65,
   "metadata": {},
   "outputs": [
    {
     "name": "stdout",
     "output_type": "stream",
     "text": [
      "[[  20   12   10   64   19]\n",
      " [  15   55   20  160   28]\n",
      " [  10   23   79  180   25]\n",
      " [  66  119  132 1169  139]\n",
      " [  21   39   42  158   71]]\n",
      "recall labels = \n",
      "[0.16, 0.19784172661870503, 0.24921135646687698, 0.7193846153846154, 0.21450151057401812]\n",
      "\n",
      "Precision labels = \n",
      "[0.15151515151515152, 0.2217741935483871, 0.2791519434628975, 0.6753321779318313, 0.25177304964539005]\n",
      "\n",
      "MACRO AVERAGING Recall = \n",
      "0.3081878418088431\n",
      "\n",
      "MACRO AVERAGING Precision = \n",
      "0.3159093032207315\n",
      "\n"
     ]
    },
    {
     "data": {
      "image/png": "[encoded data removed]",
      "text/plain": [
       "<Figure size 360x360 with 2 Axes>"
      ]
     },
     "metadata": {
      "needs_background": "light"
     },
     "output_type": "display_data"
    }
   ],
   "source": [
    "plot_cm(y_test, predictions)"
   ]
  },
  {
   "cell_type": "code",
   "execution_count": 66,
   "metadata": {},
   "outputs": [
    {
     "data": {
      "text/plain": [
       "'\\nrows = np.sum(cm, axis = 1) \\ncols = np.sum(cm, axis = 0) \\nrecall_labels = []\\nPrecision_labels = []\\n\\nfor i in range(len(CLASSES)):\\n    recall_labels.append(cm[i][i]/rows[i])\\n    Precision_labels.append(cm[i][i]/cols[i])\\n    \\nprint(recall_labels)\\nprint(Precision_labels)\\n\\nMACRO_AVERAGING_Recall = np.sum(recall_labels)/len(CLASSES)\\nMACRO_AVERAGING_Precision = np.sum(Precision_labels)/len(CLASSES)\\n\\nprint(MACRO_AVERAGING_Recall)\\nprint(MACRO_AVERAGING_Precision)\\n'"
      ]
     },
     "execution_count": 66,
     "metadata": {},
     "output_type": "execute_result"
    }
   ],
   "source": [
    "##manually getting the Precision and recall but we but them up in the function of plot cm\n",
    "'''\n",
    "rows = np.sum(cm, axis = 1) \n",
    "cols = np.sum(cm, axis = 0) \n",
    "recall_labels = []\n",
    "Precision_labels = []\n",
    "\n",
    "for i in range(len(CLASSES)):\n",
    "    recall_labels.append(cm[i][i]/rows[i])\n",
    "    Precision_labels.append(cm[i][i]/cols[i])\n",
    "    \n",
    "print(recall_labels)\n",
    "print(Precision_labels)\n",
    "\n",
    "MACRO_AVERAGING_Recall = np.sum(recall_labels)/len(CLASSES)\n",
    "MACRO_AVERAGING_Precision = np.sum(Precision_labels)/len(CLASSES)\n",
    "\n",
    "print(MACRO_AVERAGING_Recall)\n",
    "print(MACRO_AVERAGING_Precision)\n",
    "'''\n"
   ]
  },
  {
   "cell_type": "code",
   "execution_count": 69,
   "metadata": {},
   "outputs": [
    {
     "data": {
      "image/png": "[encoded data removed]",
      "text/plain": [
       "<Figure size 432x288 with 1 Axes>"
      ]
     },
     "metadata": {
      "needs_background": "light"
     },
     "output_type": "display_data"
    }
   ],
   "source": [
    "from sklearn.metrics import roc_curve, auc, roc_auc_score\n",
    "from sklearn.preprocessing  import label_binarize\n",
    "# from scipy import interp\n",
    "\n",
    "n_classes = len(CLASSES)\n",
    "\n",
    "# Binarize the output \n",
    "true_labels_l_b = label_binarize(y_test, classes=range(n_classes))\n",
    "# Y_pred_b = label_binarize(Y_pred, classes=CLASSES)\n",
    "Y_pred_b = label_binarize(predictions, classes=range(n_classes))\n",
    "\n",
    "# Compute ROC curve and ROC area for each class\n",
    "fpr = dict()\n",
    "tpr = dict()\n",
    "roc_auc = dict()\n",
    "for i in range(n_classes):\n",
    "    fpr[i], tpr[i], _ = roc_curve(true_labels_l_b[:,i], Y_pred_b[:, i])\n",
    "    roc_auc[i] = auc(fpr[i], tpr[i])\n",
    "\n",
    "# Compute micro-average ROC curve and ROC area\n",
    "fpr[\"micro\"], tpr[\"micro\"], _ = roc_curve(true_labels_l_b.ravel(), Y_pred_b.ravel())\n",
    "roc_auc[\"micro\"] = auc(fpr[\"micro\"], tpr[\"micro\"])\n",
    "\n",
    "\n",
    "\n",
    "#Plot of a ROC curve for a specific class\n",
    "\n",
    "plt.figure()\n",
    "lw = 2\n",
    "plt.plot(fpr[2], tpr[2], color='darkorange',\n",
    "         lw=lw, label='ROC curve (area = %0.2f)' % roc_auc[2])\n",
    "plt.plot([0, 1], [0, 1], color='navy', lw=lw, linestyle='--')\n",
    "plt.xlim([0.0, 1.0])\n",
    "plt.ylim([0.0, 1.05])\n",
    "plt.xlabel('False Positive Rate')\n",
    "plt.ylabel('True Positive Rate')\n",
    "plt.title('Receiver operating characteristic example')\n",
    "plt.legend(loc=\"lower right\")\n",
    "plt.show()"
   ]
  },
  {
   "cell_type": "code",
   "execution_count": 70,
   "metadata": {},
   "outputs": [
    {
     "data": {
      "image/png": "[encoded data removed]",
      "text/plain": [
       "<Figure size 720x720 with 1 Axes>"
      ]
     },
     "metadata": {
      "needs_background": "light"
     },
     "output_type": "display_data"
    }
   ],
   "source": [
    "import itertools\n",
    "\n",
    "target_names = ['(CBB)','Brown Streak Disease (CBSD) ','Green Mottle (CGM) ','Mosaic Disease (CMD) ','Healthy ']\n",
    "\n",
    "# First aggregate all false positive rates\n",
    "all_fpr = np.unique(np.concatenate([fpr[i] for i in range(n_classes)]))\n",
    "\n",
    "# Then interpolate all ROC curves at this points\n",
    "mean_tpr = np.zeros_like(all_fpr)\n",
    "for i in range(n_classes):\n",
    "    mean_tpr += np.interp(all_fpr, fpr[i], tpr[i])\n",
    "\n",
    "# Finally average it and compute AUC\n",
    "mean_tpr /= n_classes\n",
    "\n",
    "fpr[\"macro\"] = all_fpr\n",
    "tpr[\"macro\"] = mean_tpr\n",
    "roc_auc[\"macro\"] = auc(fpr[\"macro\"], tpr[\"macro\"])\n",
    "\n",
    "# Plot all ROC curves\n",
    "plt.figure(figsize = (10,10))\n",
    "\n",
    "plt.plot(fpr[\"micro\"], tpr[\"micro\"],\n",
    "         label='micro-average ROC curve (area = {0:0.2f})'\n",
    "               ''.format(roc_auc[\"micro\"]),\n",
    "         color='deeppink', linestyle=':', linewidth=4)\n",
    "\n",
    "plt.plot(fpr[\"macro\"], tpr[\"macro\"],\n",
    "         label='macro-average ROC curve (area = {0:0.2f})'\n",
    "               ''.format(roc_auc[\"macro\"]),\n",
    "         color='navy', linestyle=':', linewidth=4)\n",
    "\n",
    "colors = itertools.cycle(['aqua', 'darkorange', 'cornflowerblue'])\n",
    "for i, color in zip(range(n_classes), colors):\n",
    "    plt.plot(fpr[i], tpr[i], color=color, lw=lw,\n",
    "             label='ROC curve of class {0} (area = {1:0.2f})'\n",
    "             ''.format(target_names[i], roc_auc[i]))\n",
    "\n",
    "plt.plot([0, 1], [0, 1], 'k--', lw=lw)\n",
    "plt.xlim([0.0, 1.0])\n",
    "plt.ylim([0.0, 1.05])\n",
    "plt.xlabel('False Positive Rate')\n",
    "plt.ylabel('True Positive Rate')\n",
    "plt.title('Some extension of Receiver operating characteristic to multi-class')\n",
    "plt.legend(loc=\"lower right\")\n",
    "plt.show()"
   ]
  },
  {
   "cell_type": "markdown",
   "metadata": {},
   "source": [
    "# Parameters that will be changed during comparisons\n",
    "\n",
    "# Case 3 :\n",
    "\n",
    "Transfer layer VGG19\n",
    "\n",
    "The parameters are untunable (trainable = False) \n",
    "\n",
    "Fixed learning rate\n"
   ]
  },
  {
   "cell_type": "code",
   "execution_count": 17,
   "metadata": {},
   "outputs": [
    {
     "name": "stdout",
     "output_type": "stream",
     "text": [
      "Downloading data from https://storage.googleapis.com/tensorflow/keras-applications/vgg19/vgg19_weights_tf_dim_ordering_tf_kernels_notop.h5\n",
      "80142336/80134624 [==============================] - 1s 0us/step\n"
     ]
    },
    {
     "data": {
      "text/plain": [
       "\"\\n        metrics2=['categorical_accuracy',\\n                           tf.keras.metrics.Precision(name='Precision'),\\n                           tf.keras.metrics.Recall(name='Recall')])\\n                           \\n                           'sparse_categorical_accuracy'\\n                           metrics=['sparse_categorical_accuracy'])\\n                            metrics=['sparse_categorical_accuracy',tf.keras.metrics.AUC()])\\n\""
      ]
     },
     "execution_count": 17,
     "metadata": {},
     "output_type": "execute_result"
    }
   ],
   "source": [
    "\n",
    "from keras.applications.vgg19 import preprocess_input\n",
    "\n",
    "#tf.keras.applications.vgg19.preprocess_input\n",
    "\n",
    "\n",
    "with strategy.scope():       \n",
    "    ##img_adjust_layer = tf.keras.layers.Lambda(tf.keras.applications.vgg16.preprocess_input, input_shape=[512,512, 3])\n",
    "    \n",
    "    base_model = tf.keras.applications.VGG19(\n",
    "    include_top=False,\n",
    "    weights=\"imagenet\",\n",
    "    input_tensor= None,\n",
    "    input_shape=[512,512, 3],\n",
    "    pooling=None,\n",
    "    classes=5,\n",
    "    classifier_activation=\"softmax\")\n",
    "    \n",
    "    base_model.trainable = False\n",
    "    \n",
    "    \n",
    "    model = tf.keras.Sequential([\n",
    "        tf.keras.layers.BatchNormalization(renorm=True),\n",
    "        ##img_adjust_layer,\n",
    "        base_model,\n",
    "        tf.keras.layers.GlobalAveragePooling2D(),\n",
    "        \n",
    "        tf.keras.layers.Flatten(),\n",
    "        tf.keras.layers.Dense(units=4096,activation=\"relu\"),\n",
    "        tf.keras.layers.Dense(units=4096,activation=\"relu\"),\n",
    "        tf.keras.layers.Dense(units=1000,activation=\"relu\"),\n",
    "        tf.keras.layers.Dense(units=500,activation=\"relu\"),\n",
    "        tf.keras.layers.Dense(units=100,activation=\"relu\"),\n",
    "        tf.keras.layers.Dense(units=5, activation=\"softmax\") \n",
    "        \n",
    "    ])\n",
    "    \n",
    "    model.compile(\n",
    "        optimizer=tf.keras.optimizers.Adam(learning_rate=0.01, epsilon=0.001),\n",
    "        loss='sparse_categorical_crossentropy',\n",
    "        metrics=['sparse_categorical_accuracy'])\n",
    "        \n",
    "\n",
    "'''\n",
    "        metrics2=['categorical_accuracy',\n",
    "                           tf.keras.metrics.Precision(name='Precision'),\n",
    "                           tf.keras.metrics.Recall(name='Recall')])\n",
    "                           \n",
    "                           'sparse_categorical_accuracy'\n",
    "                           metrics=['sparse_categorical_accuracy'])\n",
    "                            metrics=['sparse_categorical_accuracy',tf.keras.metrics.AUC()])\n",
    "'''"
   ]
  },
  {
   "cell_type": "code",
   "execution_count": 18,
   "metadata": {},
   "outputs": [],
   "source": [
    "# load data\n",
    "train_dataset = get_training_dataset()\n",
    "valid_dataset = get_validation_dataset()"
   ]
  },
  {
   "cell_type": "code",
   "execution_count": 19,
   "metadata": {},
   "outputs": [],
   "source": [
    "from keras.callbacks import CSVLogger\n",
    "\n",
    "##csv_logger = CSVLogger('training.log', separator=',', append=False)\n"
   ]
  },
  {
   "cell_type": "code",
   "execution_count": 20,
   "metadata": {},
   "outputs": [],
   "source": [
    "from tensorflow.keras.callbacks import EarlyStopping, ModelCheckpoint\n",
    "\n",
    "keras_callbacks   = [EarlyStopping(monitor='val_loss', patience=30, mode='min', min_delta=0.0001),\n",
    "    ModelCheckpoint('mymodel.h5', monitor='val_loss', verbose=1,\n",
    "    save_best_only=True, save_weights_only=True, mode='auto', period=1),\n",
    "    CSVLogger('training.log', separator=',', append=False)\n",
    "    \n",
    "]\n",
    "\n",
    "##save_best_only=True"
   ]
  },
  {
   "cell_type": "code",
   "execution_count": 21,
   "metadata": {},
   "outputs": [
    {
     "name": "stdout",
     "output_type": "stream",
     "text": [
      "Epoch 1/300\n",
      "146/146 [==============================] - ETA: 0s - loss: 1.0153 - sparse_categorical_accuracy: 0.6330\n",
      "Epoch 00001: val_loss improved from inf to 0.85777, saving model to mymodel.h5\n",
      "146/146 [==============================] - 52s 359ms/step - loss: 1.0153 - sparse_categorical_accuracy: 0.6330 - val_loss: 0.8578 - val_sparse_categorical_accuracy: 0.6687\n",
      "Epoch 2/300\n",
      "146/146 [==============================] - ETA: 0s - loss: 0.8541 - sparse_categorical_accuracy: 0.6722\n",
      "Epoch 00002: val_loss improved from 0.85777 to 0.81595, saving model to mymodel.h5\n",
      "146/146 [==============================] - 41s 284ms/step - loss: 0.8541 - sparse_categorical_accuracy: 0.6722 - val_loss: 0.8160 - val_sparse_categorical_accuracy: 0.6742\n",
      "Epoch 3/300\n",
      "146/146 [==============================] - ETA: 0s - loss: 0.8107 - sparse_categorical_accuracy: 0.6881\n",
      "Epoch 00003: val_loss improved from 0.81595 to 0.79560, saving model to mymodel.h5\n",
      "146/146 [==============================] - 42s 285ms/step - loss: 0.8107 - sparse_categorical_accuracy: 0.6881 - val_loss: 0.7956 - val_sparse_categorical_accuracy: 0.7039\n",
      "Epoch 4/300\n",
      "146/146 [==============================] - ETA: 0s - loss: 0.7581 - sparse_categorical_accuracy: 0.7151\n",
      "Epoch 00004: val_loss improved from 0.79560 to 0.71024, saving model to mymodel.h5\n",
      "146/146 [==============================] - 41s 283ms/step - loss: 0.7581 - sparse_categorical_accuracy: 0.7151 - val_loss: 0.7102 - val_sparse_categorical_accuracy: 0.7473\n",
      "Epoch 5/300\n",
      "146/146 [==============================] - ETA: 0s - loss: 0.7060 - sparse_categorical_accuracy: 0.7419\n",
      "Epoch 00005: val_loss did not improve from 0.71024\n",
      "146/146 [==============================] - 41s 278ms/step - loss: 0.7060 - sparse_categorical_accuracy: 0.7419 - val_loss: 0.7219 - val_sparse_categorical_accuracy: 0.7508\n",
      "Epoch 6/300\n",
      "146/146 [==============================] - ETA: 0s - loss: 0.6685 - sparse_categorical_accuracy: 0.7543\n",
      "Epoch 00006: val_loss improved from 0.71024 to 0.68788, saving model to mymodel.h5\n",
      "146/146 [==============================] - 42s 286ms/step - loss: 0.6685 - sparse_categorical_accuracy: 0.7543 - val_loss: 0.6879 - val_sparse_categorical_accuracy: 0.7445\n",
      "Epoch 7/300\n",
      "146/146 [==============================] - ETA: 0s - loss: 0.6533 - sparse_categorical_accuracy: 0.7633\n",
      "Epoch 00007: val_loss improved from 0.68788 to 0.63250, saving model to mymodel.h5\n",
      "146/146 [==============================] - 41s 284ms/step - loss: 0.6533 - sparse_categorical_accuracy: 0.7633 - val_loss: 0.6325 - val_sparse_categorical_accuracy: 0.7723\n",
      "Epoch 8/300\n",
      "146/146 [==============================] - ETA: 0s - loss: 0.6174 - sparse_categorical_accuracy: 0.7768\n",
      "Epoch 00008: val_loss did not improve from 0.63250\n",
      "146/146 [==============================] - 41s 281ms/step - loss: 0.6174 - sparse_categorical_accuracy: 0.7768 - val_loss: 0.6523 - val_sparse_categorical_accuracy: 0.7656\n",
      "Epoch 9/300\n",
      "146/146 [==============================] - ETA: 0s - loss: 0.6146 - sparse_categorical_accuracy: 0.7823\n",
      "Epoch 00009: val_loss improved from 0.63250 to 0.63129, saving model to mymodel.h5\n",
      "146/146 [==============================] - 42s 287ms/step - loss: 0.6146 - sparse_categorical_accuracy: 0.7823 - val_loss: 0.6313 - val_sparse_categorical_accuracy: 0.7742\n",
      "Epoch 10/300\n",
      "146/146 [==============================] - ETA: 0s - loss: 0.6066 - sparse_categorical_accuracy: 0.7799\n",
      "Epoch 00010: val_loss improved from 0.63129 to 0.58334, saving model to mymodel.h5\n",
      "146/146 [==============================] - 42s 285ms/step - loss: 0.6066 - sparse_categorical_accuracy: 0.7799 - val_loss: 0.5833 - val_sparse_categorical_accuracy: 0.7953\n",
      "Epoch 11/300\n",
      "146/146 [==============================] - ETA: 0s - loss: 0.5928 - sparse_categorical_accuracy: 0.7856\n",
      "Epoch 00011: val_loss did not improve from 0.58334\n",
      "146/146 [==============================] - 41s 278ms/step - loss: 0.5928 - sparse_categorical_accuracy: 0.7856 - val_loss: 0.6159 - val_sparse_categorical_accuracy: 0.7828\n",
      "Epoch 12/300\n",
      "146/146 [==============================] - ETA: 0s - loss: 0.5838 - sparse_categorical_accuracy: 0.7915\n",
      "Epoch 00012: val_loss did not improve from 0.58334\n",
      "146/146 [==============================] - 41s 280ms/step - loss: 0.5838 - sparse_categorical_accuracy: 0.7915 - val_loss: 0.6057 - val_sparse_categorical_accuracy: 0.7836\n",
      "Epoch 13/300\n",
      "146/146 [==============================] - ETA: 0s - loss: 0.5773 - sparse_categorical_accuracy: 0.7927\n",
      "Epoch 00013: val_loss did not improve from 0.58334\n",
      "146/146 [==============================] - 41s 281ms/step - loss: 0.5773 - sparse_categorical_accuracy: 0.7927 - val_loss: 0.6562 - val_sparse_categorical_accuracy: 0.7664\n",
      "Epoch 14/300\n",
      "146/146 [==============================] - ETA: 0s - loss: 0.5604 - sparse_categorical_accuracy: 0.7989\n",
      "Epoch 00014: val_loss did not improve from 0.58334\n",
      "146/146 [==============================] - 41s 280ms/step - loss: 0.5604 - sparse_categorical_accuracy: 0.7989 - val_loss: 0.5919 - val_sparse_categorical_accuracy: 0.7852\n",
      "Epoch 15/300\n",
      "146/146 [==============================] - ETA: 0s - loss: 0.5663 - sparse_categorical_accuracy: 0.7968\n",
      "Epoch 00015: val_loss did not improve from 0.58334\n",
      "146/146 [==============================] - 41s 281ms/step - loss: 0.5663 - sparse_categorical_accuracy: 0.7968 - val_loss: 0.6002 - val_sparse_categorical_accuracy: 0.7918\n",
      "Epoch 16/300\n",
      "146/146 [==============================] - ETA: 0s - loss: 0.5663 - sparse_categorical_accuracy: 0.8003\n",
      "Epoch 00016: val_loss did not improve from 0.58334\n",
      "146/146 [==============================] - 40s 277ms/step - loss: 0.5663 - sparse_categorical_accuracy: 0.8003 - val_loss: 0.6019 - val_sparse_categorical_accuracy: 0.8066\n",
      "Epoch 17/300\n",
      "146/146 [==============================] - ETA: 0s - loss: 0.5560 - sparse_categorical_accuracy: 0.8047\n",
      "Epoch 00017: val_loss did not improve from 0.58334\n",
      "146/146 [==============================] - 41s 280ms/step - loss: 0.5560 - sparse_categorical_accuracy: 0.8047 - val_loss: 0.6177 - val_sparse_categorical_accuracy: 0.7789\n",
      "Epoch 18/300\n",
      "146/146 [==============================] - ETA: 0s - loss: 0.5504 - sparse_categorical_accuracy: 0.8051\n",
      "Epoch 00018: val_loss improved from 0.58334 to 0.56181, saving model to mymodel.h5\n",
      "146/146 [==============================] - 42s 288ms/step - loss: 0.5504 - sparse_categorical_accuracy: 0.8051 - val_loss: 0.5618 - val_sparse_categorical_accuracy: 0.8027\n",
      "Epoch 19/300\n",
      "146/146 [==============================] - ETA: 0s - loss: 0.5374 - sparse_categorical_accuracy: 0.8104\n",
      "Epoch 00019: val_loss improved from 0.56181 to 0.55194, saving model to mymodel.h5\n",
      "146/146 [==============================] - 42s 287ms/step - loss: 0.5374 - sparse_categorical_accuracy: 0.8104 - val_loss: 0.5519 - val_sparse_categorical_accuracy: 0.8141\n",
      "Epoch 20/300\n",
      "146/146 [==============================] - ETA: 0s - loss: 0.5308 - sparse_categorical_accuracy: 0.8097\n",
      "Epoch 00020: val_loss improved from 0.55194 to 0.54666, saving model to mymodel.h5\n",
      "146/146 [==============================] - 42s 286ms/step - loss: 0.5308 - sparse_categorical_accuracy: 0.8097 - val_loss: 0.5467 - val_sparse_categorical_accuracy: 0.8121\n",
      "Epoch 21/300\n",
      "146/146 [==============================] - ETA: 0s - loss: 0.5355 - sparse_categorical_accuracy: 0.8097\n",
      "Epoch 00021: val_loss did not improve from 0.54666\n",
      "146/146 [==============================] - 41s 278ms/step - loss: 0.5355 - sparse_categorical_accuracy: 0.8097 - val_loss: 0.5880 - val_sparse_categorical_accuracy: 0.7980\n",
      "Epoch 22/300\n",
      "146/146 [==============================] - ETA: 0s - loss: 0.5323 - sparse_categorical_accuracy: 0.8104\n",
      "Epoch 00022: val_loss did not improve from 0.54666\n",
      "146/146 [==============================] - 41s 279ms/step - loss: 0.5323 - sparse_categorical_accuracy: 0.8104 - val_loss: 0.5642 - val_sparse_categorical_accuracy: 0.8078\n",
      "Epoch 23/300\n",
      "146/146 [==============================] - ETA: 0s - loss: 0.5177 - sparse_categorical_accuracy: 0.8191\n",
      "Epoch 00023: val_loss did not improve from 0.54666\n",
      "146/146 [==============================] - 40s 277ms/step - loss: 0.5177 - sparse_categorical_accuracy: 0.8191 - val_loss: 0.5614 - val_sparse_categorical_accuracy: 0.8016\n",
      "Epoch 24/300\n",
      "146/146 [==============================] - ETA: 0s - loss: 0.5266 - sparse_categorical_accuracy: 0.8130\n",
      "Epoch 00024: val_loss did not improve from 0.54666\n",
      "146/146 [==============================] - 41s 281ms/step - loss: 0.5266 - sparse_categorical_accuracy: 0.8130 - val_loss: 0.5501 - val_sparse_categorical_accuracy: 0.8094\n",
      "Epoch 25/300\n",
      "146/146 [==============================] - ETA: 0s - loss: 0.5208 - sparse_categorical_accuracy: 0.8145\n",
      "Epoch 00025: val_loss did not improve from 0.54666\n",
      "146/146 [==============================] - 41s 280ms/step - loss: 0.5208 - sparse_categorical_accuracy: 0.8145 - val_loss: 0.5853 - val_sparse_categorical_accuracy: 0.7824\n",
      "Epoch 26/300\n",
      "146/146 [==============================] - ETA: 0s - loss: 0.5165 - sparse_categorical_accuracy: 0.8191\n",
      "Epoch 00026: val_loss did not improve from 0.54666\n",
      "146/146 [==============================] - 41s 280ms/step - loss: 0.5165 - sparse_categorical_accuracy: 0.8191 - val_loss: 0.5873 - val_sparse_categorical_accuracy: 0.7969\n",
      "Epoch 27/300\n",
      "146/146 [==============================] - ETA: 0s - loss: 0.5266 - sparse_categorical_accuracy: 0.8149\n",
      "Epoch 00027: val_loss did not improve from 0.54666\n",
      "146/146 [==============================] - 41s 282ms/step - loss: 0.5266 - sparse_categorical_accuracy: 0.8149 - val_loss: 0.5718 - val_sparse_categorical_accuracy: 0.8020\n",
      "Epoch 28/300\n",
      "146/146 [==============================] - ETA: 0s - loss: 0.5078 - sparse_categorical_accuracy: 0.8181\n",
      "Epoch 00028: val_loss did not improve from 0.54666\n",
      "146/146 [==============================] - 41s 280ms/step - loss: 0.5078 - sparse_categorical_accuracy: 0.8181 - val_loss: 0.5547 - val_sparse_categorical_accuracy: 0.8105\n",
      "Epoch 29/300\n",
      "146/146 [==============================] - ETA: 0s - loss: 0.5205 - sparse_categorical_accuracy: 0.8128\n",
      "Epoch 00029: val_loss did not improve from 0.54666\n",
      "146/146 [==============================] - 41s 280ms/step - loss: 0.5205 - sparse_categorical_accuracy: 0.8128 - val_loss: 0.5485 - val_sparse_categorical_accuracy: 0.8008\n",
      "Epoch 30/300\n",
      "146/146 [==============================] - ETA: 0s - loss: 0.5017 - sparse_categorical_accuracy: 0.8227\n",
      "Epoch 00030: val_loss did not improve from 0.54666\n",
      "146/146 [==============================] - 41s 282ms/step - loss: 0.5017 - sparse_categorical_accuracy: 0.8227 - val_loss: 0.5774 - val_sparse_categorical_accuracy: 0.8043\n",
      "Epoch 31/300\n",
      "146/146 [==============================] - ETA: 0s - loss: 0.5154 - sparse_categorical_accuracy: 0.8155\n",
      "Epoch 00031: val_loss did not improve from 0.54666\n",
      "146/146 [==============================] - 41s 279ms/step - loss: 0.5154 - sparse_categorical_accuracy: 0.8155 - val_loss: 0.5553 - val_sparse_categorical_accuracy: 0.8098\n",
      "Epoch 32/300\n",
      "146/146 [==============================] - ETA: 0s - loss: 0.5002 - sparse_categorical_accuracy: 0.8215\n",
      "Epoch 00032: val_loss did not improve from 0.54666\n",
      "146/146 [==============================] - 41s 282ms/step - loss: 0.5002 - sparse_categorical_accuracy: 0.8215 - val_loss: 0.5956 - val_sparse_categorical_accuracy: 0.7797\n",
      "Epoch 33/300\n",
      "146/146 [==============================] - ETA: 0s - loss: 0.5048 - sparse_categorical_accuracy: 0.8168\n",
      "Epoch 00033: val_loss did not improve from 0.54666\n",
      "146/146 [==============================] - 41s 282ms/step - loss: 0.5048 - sparse_categorical_accuracy: 0.8168 - val_loss: 0.5920 - val_sparse_categorical_accuracy: 0.7957\n",
      "Epoch 34/300\n",
      "146/146 [==============================] - ETA: 0s - loss: 0.4987 - sparse_categorical_accuracy: 0.8241\n",
      "Epoch 00034: val_loss did not improve from 0.54666\n",
      "146/146 [==============================] - 41s 280ms/step - loss: 0.4987 - sparse_categorical_accuracy: 0.8241 - val_loss: 0.5688 - val_sparse_categorical_accuracy: 0.7980\n",
      "Epoch 35/300\n",
      "146/146 [==============================] - ETA: 0s - loss: 0.4887 - sparse_categorical_accuracy: 0.8242\n",
      "Epoch 00035: val_loss did not improve from 0.54666\n",
      "146/146 [==============================] - 41s 280ms/step - loss: 0.4887 - sparse_categorical_accuracy: 0.8242 - val_loss: 0.5603 - val_sparse_categorical_accuracy: 0.8043\n",
      "Epoch 36/300\n",
      "146/146 [==============================] - ETA: 0s - loss: 0.4985 - sparse_categorical_accuracy: 0.8230\n",
      "Epoch 00036: val_loss did not improve from 0.54666\n",
      "146/146 [==============================] - 41s 279ms/step - loss: 0.4985 - sparse_categorical_accuracy: 0.8230 - val_loss: 0.5573 - val_sparse_categorical_accuracy: 0.8031\n",
      "Epoch 37/300\n",
      "146/146 [==============================] - ETA: 0s - loss: 0.5033 - sparse_categorical_accuracy: 0.8202\n",
      "Epoch 00037: val_loss did not improve from 0.54666\n",
      "146/146 [==============================] - 41s 281ms/step - loss: 0.5033 - sparse_categorical_accuracy: 0.8202 - val_loss: 0.5602 - val_sparse_categorical_accuracy: 0.8004\n",
      "Epoch 38/300\n",
      "146/146 [==============================] - ETA: 0s - loss: 0.4835 - sparse_categorical_accuracy: 0.8297\n",
      "Epoch 00038: val_loss did not improve from 0.54666\n",
      "146/146 [==============================] - 41s 280ms/step - loss: 0.4835 - sparse_categorical_accuracy: 0.8297 - val_loss: 0.5781 - val_sparse_categorical_accuracy: 0.7957\n",
      "Epoch 39/300\n",
      "146/146 [==============================] - ETA: 0s - loss: 0.4924 - sparse_categorical_accuracy: 0.8220\n",
      "Epoch 00039: val_loss did not improve from 0.54666\n",
      "146/146 [==============================] - 41s 280ms/step - loss: 0.4924 - sparse_categorical_accuracy: 0.8220 - val_loss: 0.5602 - val_sparse_categorical_accuracy: 0.8039\n",
      "Epoch 40/300\n",
      "146/146 [==============================] - ETA: 0s - loss: 0.4821 - sparse_categorical_accuracy: 0.8276\n",
      "Epoch 00040: val_loss did not improve from 0.54666\n",
      "146/146 [==============================] - 41s 281ms/step - loss: 0.4821 - sparse_categorical_accuracy: 0.8276 - val_loss: 0.5855 - val_sparse_categorical_accuracy: 0.7992\n",
      "Epoch 41/300\n",
      "146/146 [==============================] - ETA: 0s - loss: 0.4844 - sparse_categorical_accuracy: 0.8266\n",
      "Epoch 00041: val_loss did not improve from 0.54666\n",
      "146/146 [==============================] - 41s 281ms/step - loss: 0.4844 - sparse_categorical_accuracy: 0.8266 - val_loss: 0.5511 - val_sparse_categorical_accuracy: 0.8094\n",
      "Epoch 42/300\n",
      "146/146 [==============================] - ETA: 0s - loss: 0.4816 - sparse_categorical_accuracy: 0.8278\n",
      "Epoch 00042: val_loss did not improve from 0.54666\n",
      "146/146 [==============================] - 41s 279ms/step - loss: 0.4816 - sparse_categorical_accuracy: 0.8278 - val_loss: 0.5644 - val_sparse_categorical_accuracy: 0.8039\n",
      "Epoch 43/300\n",
      "146/146 [==============================] - ETA: 0s - loss: 0.4801 - sparse_categorical_accuracy: 0.8281\n",
      "Epoch 00043: val_loss did not improve from 0.54666\n",
      "146/146 [==============================] - 41s 281ms/step - loss: 0.4801 - sparse_categorical_accuracy: 0.8281 - val_loss: 0.5811 - val_sparse_categorical_accuracy: 0.8023\n",
      "Epoch 44/300\n",
      "146/146 [==============================] - ETA: 0s - loss: 0.4938 - sparse_categorical_accuracy: 0.8210\n",
      "Epoch 00044: val_loss did not improve from 0.54666\n",
      "146/146 [==============================] - 41s 281ms/step - loss: 0.4938 - sparse_categorical_accuracy: 0.8210 - val_loss: 0.5849 - val_sparse_categorical_accuracy: 0.7977\n",
      "Epoch 45/300\n",
      "146/146 [==============================] - ETA: 0s - loss: 0.4812 - sparse_categorical_accuracy: 0.8287\n",
      "Epoch 00045: val_loss did not improve from 0.54666\n",
      "146/146 [==============================] - 41s 280ms/step - loss: 0.4812 - sparse_categorical_accuracy: 0.8287 - val_loss: 0.5669 - val_sparse_categorical_accuracy: 0.8031\n",
      "Epoch 46/300\n",
      "146/146 [==============================] - ETA: 0s - loss: 0.4761 - sparse_categorical_accuracy: 0.8273\n",
      "Epoch 00046: val_loss did not improve from 0.54666\n",
      "146/146 [==============================] - 41s 278ms/step - loss: 0.4761 - sparse_categorical_accuracy: 0.8273 - val_loss: 0.5693 - val_sparse_categorical_accuracy: 0.8055\n",
      "Epoch 47/300\n",
      "146/146 [==============================] - ETA: 0s - loss: 0.4760 - sparse_categorical_accuracy: 0.8287\n",
      "Epoch 00047: val_loss did not improve from 0.54666\n",
      "146/146 [==============================] - 41s 279ms/step - loss: 0.4760 - sparse_categorical_accuracy: 0.8287 - val_loss: 0.5865 - val_sparse_categorical_accuracy: 0.7934\n",
      "Epoch 48/300\n",
      "146/146 [==============================] - ETA: 0s - loss: 0.4697 - sparse_categorical_accuracy: 0.8286\n",
      "Epoch 00048: val_loss did not improve from 0.54666\n",
      "146/146 [==============================] - 41s 279ms/step - loss: 0.4697 - sparse_categorical_accuracy: 0.8286 - val_loss: 0.5683 - val_sparse_categorical_accuracy: 0.8055\n",
      "Epoch 49/300\n",
      "146/146 [==============================] - ETA: 0s - loss: 0.4656 - sparse_categorical_accuracy: 0.8302\n",
      "Epoch 00049: val_loss did not improve from 0.54666\n",
      "146/146 [==============================] - 41s 281ms/step - loss: 0.4656 - sparse_categorical_accuracy: 0.8302 - val_loss: 0.5705 - val_sparse_categorical_accuracy: 0.8043\n",
      "Epoch 50/300\n",
      "146/146 [==============================] - ETA: 0s - loss: 0.4619 - sparse_categorical_accuracy: 0.8350\n",
      "Epoch 00050: val_loss did not improve from 0.54666\n",
      "146/146 [==============================] - 41s 279ms/step - loss: 0.4619 - sparse_categorical_accuracy: 0.8350 - val_loss: 0.5769 - val_sparse_categorical_accuracy: 0.8039\n"
     ]
    }
   ],
   "source": [
    "STEPS_PER_EPOCH = NUM_TRAINING_IMAGES // BATCH_SIZE\n",
    "VALID_STEPS = NUM_VALIDATION_IMAGES // BATCH_SIZE\n",
    "\n",
    "history = model.fit(train_dataset, \n",
    "                    steps_per_epoch=STEPS_PER_EPOCH, \n",
    "                    epochs=EPOCHS,\n",
    "                    validation_data=valid_dataset,\n",
    "                    validation_steps=VALID_STEPS,\n",
    "                    callbacks=keras_callbacks)\n",
    "                   \n",
    "\n",
    "##model.save('mymodel.h5')"
   ]
  },
  {
   "cell_type": "code",
   "execution_count": 22,
   "metadata": {},
   "outputs": [
    {
     "name": "stdout",
     "output_type": "stream",
     "text": [
      "Model: \"sequential\"\n",
      "_________________________________________________________________\n",
      "Layer (type)                 Output Shape              Param #   \n",
      "=================================================================\n",
      "batch_normalization (BatchNo multiple                  21        \n",
      "_________________________________________________________________\n",
      "vgg19 (Model)                (None, 16, 16, 512)       20024384  \n",
      "_________________________________________________________________\n",
      "global_average_pooling2d (Gl multiple                  0         \n",
      "_________________________________________________________________\n",
      "flatten (Flatten)            multiple                  0         \n",
      "_________________________________________________________________\n",
      "dense (Dense)                multiple                  2101248   \n",
      "_________________________________________________________________\n",
      "dense_1 (Dense)              multiple                  16781312  \n",
      "_________________________________________________________________\n",
      "dense_2 (Dense)              multiple                  4097000   \n",
      "_________________________________________________________________\n",
      "dense_3 (Dense)              multiple                  500500    \n",
      "_________________________________________________________________\n",
      "dense_4 (Dense)              multiple                  50100     \n",
      "_________________________________________________________________\n",
      "dense_5 (Dense)              multiple                  505       \n",
      "=================================================================\n",
      "Total params: 43,555,070\n",
      "Trainable params: 23,530,671\n",
      "Non-trainable params: 20,024,399\n",
      "_________________________________________________________________\n"
     ]
    }
   ],
   "source": [
    "model.summary()"
   ]
  },
  {
   "cell_type": "code",
   "execution_count": 23,
   "metadata": {},
   "outputs": [],
   "source": [
    "model.save('model2_VGG19_untunable.h5')\n",
    "model.save('model3_VGG19_untunable.hdf5')"
   ]
  },
  {
   "cell_type": "code",
   "execution_count": null,
   "metadata": {},
   "outputs": [],
   "source": [
    "## load the history data if we stopped the model suddenly \n",
    "\n",
    "#log_data = pd.read_csv('training.log', sep=',', engine='python')\n"
   ]
  },
  {
   "cell_type": "code",
   "execution_count": null,
   "metadata": {},
   "outputs": [],
   "source": [
    "##model2 = tf.keras.models.load_model('../input/testmodel2/model2_VGG19_untunable.h5')"
   ]
  },
  {
   "cell_type": "code",
   "execution_count": null,
   "metadata": {},
   "outputs": [],
   "source": [
    "##model.save('model2.h5')"
   ]
  },
  {
   "cell_type": "code",
   "execution_count": null,
   "metadata": {},
   "outputs": [],
   "source": [
    "##model.save('model.hdf5')"
   ]
  },
  {
   "cell_type": "code",
   "execution_count": 24,
   "metadata": {},
   "outputs": [],
   "source": [
    "## load the history data if we stopped the model suddenly \n",
    "\n",
    "history_frame = pd.read_csv('training.log', sep=',', engine='python')\n",
    "\n",
    "\n",
    "##history_frame = pd.read_csv('../input/testmodel2/training.log', sep=',', engine='python')"
   ]
  },
  {
   "cell_type": "code",
   "execution_count": 25,
   "metadata": {},
   "outputs": [
    {
     "data": {
      "image/png": "[encoded data removed]",
      "text/plain": [
       "<Figure size 432x288 with 1 Axes>"
      ]
     },
     "metadata": {
      "needs_background": "light"
     },
     "output_type": "display_data"
    },
    {
     "data": {
      "image/png": "[encoded data removed]",
      "text/plain": [
       "<Figure size 432x288 with 1 Axes>"
      ]
     },
     "metadata": {
      "needs_background": "light"
     },
     "output_type": "display_data"
    }
   ],
   "source": [
    "# create learning curves to evaluate model performance\n",
    "#history_frame = pd.DataFrame(history.history)\n",
    "history_frame.loc[:, ['loss', 'val_loss']].plot()\n",
    "history_frame.loc[:, ['sparse_categorical_accuracy', 'val_sparse_categorical_accuracy']].plot();"
   ]
  },
  {
   "cell_type": "markdown",
   "metadata": {},
   "source": [
    "# Some conclusions\n",
    "\n",
    "The maximum sparse_categorical_accuracy = 0.83\n",
    "\n",
    "The maximum val_sparse_categorical_accuracy = 0.81 \n",
    "    \n",
    "Which is not bad without balancing the data but we have also augmentation on the fly\n",
    "\n",
    "In this case , this time there is no over fitting in the trained model, the training accuracy and the validation one are close to each other. But the over all performance is not that good and need to be enhanced using balancing and filltering the dataset, also it predicts the test photo wrong\n",
    "\n",
    "\n"
   ]
  },
  {
   "cell_type": "code",
   "execution_count": 26,
   "metadata": {},
   "outputs": [],
   "source": [
    "# this code will convert our test image data to a float32 \n",
    "def to_float32(image, label):\n",
    "    return tf.cast(image, tf.float32), label"
   ]
  },
  {
   "cell_type": "code",
   "execution_count": 27,
   "metadata": {},
   "outputs": [
    {
     "name": "stdout",
     "output_type": "stream",
     "text": [
      "Computing predictions...\n",
      "[4]\n"
     ]
    }
   ],
   "source": [
    "test_ds = get_test_dataset(ordered=True) \n",
    "test_ds = test_ds.map(to_float32)\n",
    "\n",
    "print('Computing predictions...')\n",
    "##test_images_ds = get_test_dataset()\n",
    "test_images_ds = test_ds.map(lambda image, idnum: image)\n",
    "probabilities = model.predict(test_images_ds)\n",
    "predictions = np.argmax(probabilities, axis=-1)\n",
    "print(predictions)"
   ]
  },
  {
   "cell_type": "code",
   "execution_count": 28,
   "metadata": {},
   "outputs": [],
   "source": [
    "# load our validation dataset labels\n",
    "y_test = []\n",
    "##x_test = []\n",
    "\n",
    "validation_dataset = get_validation_dataset()\n",
    "validation_dataset = validation_dataset.unbatch()##.batch(1)\n",
    "for image, label in validation_dataset:\n",
    "    ##x_test.append(image.numpy())\n",
    "    y_test.append(label.numpy())\n",
    "    \n"
   ]
  },
  {
   "cell_type": "code",
   "execution_count": null,
   "metadata": {},
   "outputs": [],
   "source": [
    "y_test"
   ]
  },
  {
   "cell_type": "code",
   "execution_count": 30,
   "metadata": {},
   "outputs": [
    {
     "data": {
      "text/plain": [
       "2676"
      ]
     },
     "execution_count": 30,
     "metadata": {},
     "output_type": "execute_result"
    }
   ],
   "source": [
    "len(y_test)"
   ]
  },
  {
   "cell_type": "code",
   "execution_count": 31,
   "metadata": {},
   "outputs": [
    {
     "data": {
      "text/plain": [
       "'\\nprint(\"Training data shapes:\")\\nfor image, label in get_training_dataset().take(3):\\n    print(image.numpy().shape, label.numpy().shape)\\nprint(\"Training data label examples:\", label.numpy())\\nprint(\"Validation data shapes:\")\\nfor image, label in get_validation_dataset().take(3):\\n    print(image.numpy().shape, label.numpy().shape)\\nprint(\"Validation data label examples:\", label.numpy())\\nprint(\"Test data shapes:\")\\nfor image, idnum in get_test_dataset().take(3):\\n    print(image.numpy().shape, idnum.numpy().shape)\\nprint(\"Test data IDs:\", idnum.numpy().astype(\\'U\\')) # U=unicode string\\n'"
      ]
     },
     "execution_count": 31,
     "metadata": {},
     "output_type": "execute_result"
    }
   ],
   "source": [
    "'''\n",
    "print(\"Training data shapes:\")\n",
    "for image, label in get_training_dataset().take(3):\n",
    "    print(image.numpy().shape, label.numpy().shape)\n",
    "print(\"Training data label examples:\", label.numpy())\n",
    "print(\"Validation data shapes:\")\n",
    "for image, label in get_validation_dataset().take(3):\n",
    "    print(image.numpy().shape, label.numpy().shape)\n",
    "print(\"Validation data label examples:\", label.numpy())\n",
    "print(\"Test data shapes:\")\n",
    "for image, idnum in get_test_dataset().take(3):\n",
    "    print(image.numpy().shape, idnum.numpy().shape)\n",
    "print(\"Test data IDs:\", idnum.numpy().astype('U')) # U=unicode string\n",
    "'''"
   ]
  },
  {
   "cell_type": "code",
   "execution_count": 32,
   "metadata": {},
   "outputs": [
    {
     "name": "stdout",
     "output_type": "stream",
     "text": [
      "[3 1 2 ... 3 0 3]\n"
     ]
    }
   ],
   "source": [
    "validation_dataset = get_validation_dataset()\n",
    "\n",
    "probabilities = model.predict(validation_dataset)\n",
    "predictions = np.argmax(probabilities, axis=-1)\n",
    "\n",
    "print(predictions)"
   ]
  },
  {
   "cell_type": "code",
   "execution_count": null,
   "metadata": {},
   "outputs": [],
   "source": [
    "'''\n",
    "def get_train_dataset():\n",
    "    dataset = load_dataset(TRAINING_FILENAMES, labeled=True)  \n",
    "\n",
    "    dataset = dataset.batch(BATCH_SIZE)\n",
    "    dataset = dataset.prefetch(AUTOTUNE)\n",
    "    return dataset\n",
    "\n",
    "'''"
   ]
  },
  {
   "cell_type": "code",
   "execution_count": null,
   "metadata": {},
   "outputs": [],
   "source": [
    "'''\n",
    "train_dataset = get_train_dataset()\n",
    "\n",
    "train_probabilities = model.predict(train_dataset)\n",
    "train_predictions = np.argmax(train_probabilities, axis=-1)\n",
    "\n",
    "print(train_predictions)\n",
    "'''"
   ]
  },
  {
   "cell_type": "code",
   "execution_count": null,
   "metadata": {},
   "outputs": [],
   "source": [
    "'''\n",
    "# load our validation dataset for EDA\n",
    "y_train = []\n",
    "##x_test = []\n",
    "\n",
    "train_dataset = get_train_dataset()\n",
    "train_dataset = train_dataset.unbatch()##.batch(1)\n",
    "for image, label in train_dataset:\n",
    "    ##x_test.append(image.numpy())\n",
    "    y_train.append(label.numpy())\n",
    "'''"
   ]
  },
  {
   "cell_type": "code",
   "execution_count": null,
   "metadata": {},
   "outputs": [],
   "source": [
    "##len(y_train)"
   ]
  },
  {
   "cell_type": "code",
   "execution_count": 33,
   "metadata": {},
   "outputs": [],
   "source": [
    "import tempfile\n",
    "\n",
    "import matplotlib as mpl\n",
    "import matplotlib.pyplot as plt\n",
    "\n",
    "import seaborn as sns\n",
    "\n",
    "import sklearn\n",
    "from sklearn.metrics import confusion_matrix\n",
    "from sklearn.model_selection import train_test_split\n",
    "from sklearn.preprocessing import StandardScaler"
   ]
  },
  {
   "cell_type": "code",
   "execution_count": 34,
   "metadata": {},
   "outputs": [
    {
     "data": {
      "text/plain": [
       "\"\\nlabels = [0, 1, 2, 3, 4]\\n\\ncm = confusion_matrix(y_test, predictions)\\n\\nprint(cm)\\nfig = plt.figure()\\nax = fig.add_subplot(111)\\ncax = ax.matshow(cm)\\nplt.title('Confusion matrix of the classifier')\\nfig.colorbar(cax)\\nax.set_xticklabels([''] + labels)\\nax.set_yticklabels([''] + labels)\\nplt.xlabel('Predicted')\\nplt.ylabel('True')\\nplt.show()\\n\""
      ]
     },
     "execution_count": 34,
     "metadata": {},
     "output_type": "execute_result"
    }
   ],
   "source": [
    "from sklearn.metrics import confusion_matrix\n",
    "\n",
    "\n",
    "\n",
    "def plot_cm(labels, predictions):\n",
    "      cm = confusion_matrix(labels, predictions)\n",
    "      print(cm)\n",
    "      plt.figure(figsize=(5,5))\n",
    "      sns.heatmap(cm, annot=True, fmt=\"d\")\n",
    "      plt.title('Confusion matrix')\n",
    "      plt.ylabel('Actual label')\n",
    "      plt.xlabel('Predicted label')\n",
    "\n",
    "\n",
    "      rows = np.sum(cm, axis = 1) \n",
    "      cols = np.sum(cm, axis = 0) \n",
    "      recall_labels = []\n",
    "      Precision_labels = []\n",
    "\n",
    "      for i in range(len(CLASSES)):\n",
    "        recall_labels.append(cm[i][i]/rows[i])\n",
    "        Precision_labels.append(cm[i][i]/cols[i])\n",
    "        \n",
    "      print('recall labels = ')\n",
    "      print(recall_labels)\n",
    "      print(\"\")\n",
    "    \n",
    "      print('Precision labels = ')\n",
    "      print(Precision_labels)\n",
    "      print(\"\")\n",
    "\n",
    "      MACRO_AVERAGING_Recall = np.sum(recall_labels)/len(CLASSES)\n",
    "      MACRO_AVERAGING_Precision = np.sum(Precision_labels)/len(CLASSES)\n",
    "\n",
    "      print('MACRO AVERAGING Recall = ')\n",
    "      print(MACRO_AVERAGING_Recall)\n",
    "      print(\"\")\n",
    "    \n",
    "      print('MACRO AVERAGING Precision = ')\n",
    "      print(MACRO_AVERAGING_Precision)\n",
    "      print(\"\")\n",
    "        \n",
    "  \n",
    "\n",
    "\n",
    "\n",
    "'''\n",
    "labels = [0, 1, 2, 3, 4]\n",
    "\n",
    "cm = confusion_matrix(y_test, predictions)\n",
    "\n",
    "print(cm)\n",
    "fig = plt.figure()\n",
    "ax = fig.add_subplot(111)\n",
    "cax = ax.matshow(cm)\n",
    "plt.title('Confusion matrix of the classifier')\n",
    "fig.colorbar(cax)\n",
    "ax.set_xticklabels([''] + labels)\n",
    "ax.set_yticklabels([''] + labels)\n",
    "plt.xlabel('Predicted')\n",
    "plt.ylabel('True')\n",
    "plt.show()\n",
    "'''"
   ]
  },
  {
   "cell_type": "code",
   "execution_count": 35,
   "metadata": {},
   "outputs": [
    {
     "name": "stdout",
     "output_type": "stream",
     "text": [
      "[[   2   20   11   82   10]\n",
      " [  12   39   31  162   34]\n",
      " [  11   30   29  195   52]\n",
      " [  80  175  141 1001  228]\n",
      " [  15   38   24  202   52]]\n",
      "recall labels = \n",
      "[0.016, 0.14028776978417265, 0.0914826498422713, 0.616, 0.15709969788519637]\n",
      "\n",
      "Precision labels = \n",
      "[0.016666666666666666, 0.1291390728476821, 0.1228813559322034, 0.6096224116930572, 0.13829787234042554]\n",
      "\n",
      "MACRO AVERAGING Recall = \n",
      "0.20417402350232808\n",
      "\n",
      "MACRO AVERAGING Precision = \n",
      "0.203321475896007\n",
      "\n"
     ]
    },
    {
     "data": {
      "image/png": "[encoded data removed]",
      "text/plain": [
       "<Figure size 360x360 with 2 Axes>"
      ]
     },
     "metadata": {
      "needs_background": "light"
     },
     "output_type": "display_data"
    }
   ],
   "source": [
    "plot_cm(y_test, predictions)"
   ]
  },
  {
   "cell_type": "code",
   "execution_count": null,
   "metadata": {},
   "outputs": [],
   "source": [
    "##manually getting the Precision and recall but we but them up in the function of plot cm\n",
    "'''\n",
    "rows = np.sum(cm, axis = 1) \n",
    "cols = np.sum(cm, axis = 0) \n",
    "recall_labels = []\n",
    "Precision_labels = []\n",
    "\n",
    "for i in range(len(CLASSES)):\n",
    "    recall_labels.append(cm[i][i]/rows[i])\n",
    "    Precision_labels.append(cm[i][i]/cols[i])\n",
    "    \n",
    "print(recall_labels)\n",
    "print(Precision_labels)\n",
    "\n",
    "MACRO_AVERAGING_Recall = np.sum(recall_labels)/len(CLASSES)\n",
    "MACRO_AVERAGING_Precision = np.sum(Precision_labels)/len(CLASSES)\n",
    "\n",
    "print(MACRO_AVERAGING_Recall)\n",
    "print(MACRO_AVERAGING_Precision)\n",
    "'''\n"
   ]
  },
  {
   "cell_type": "code",
   "execution_count": null,
   "metadata": {},
   "outputs": [],
   "source": []
  },
  {
   "cell_type": "code",
   "execution_count": 36,
   "metadata": {},
   "outputs": [],
   "source": [
    "def plot_roc(name, labels, predictions, **kwargs):\n",
    "  fp[i], tp[i], _ = sklearn.metrics.roc_curve(labels, predictions)\n",
    "\n",
    "  plt.plot(100*fp, 100*tp, label=name, linewidth=2, **kwargs)\n",
    "  plt.xlabel('False positives [%]')\n",
    "  plt.ylabel('True positives [%]')\n",
    "  plt.xlim([-0.5,20])\n",
    "  plt.ylim([80,100.5])\n",
    "  plt.grid(True)\n",
    "  ax = plt.gca()\n",
    "  ax.set_aspect('equal')"
   ]
  },
  {
   "cell_type": "code",
   "execution_count": 37,
   "metadata": {},
   "outputs": [
    {
     "ename": "NameError",
     "evalue": "name 'y_train' is not defined",
     "output_type": "error",
     "traceback": [
      "\u001b[0;31m---------------------------------------------------------------------------\u001b[0m",
      "\u001b[0;31mNameError\u001b[0m                                 Traceback (most recent call last)",
      "\u001b[0;32m<ipython-input-37-24bc8ab2f0f4>\u001b[0m in \u001b[0;36m<module>\u001b[0;34m\u001b[0m\n\u001b[0;32m----> 1\u001b[0;31m \u001b[0mplot_roc\u001b[0m\u001b[0;34m(\u001b[0m\u001b[0;34m\"Train Baseline\"\u001b[0m\u001b[0;34m,\u001b[0m \u001b[0my_train\u001b[0m\u001b[0;34m,\u001b[0m \u001b[0mtrain_predictions\u001b[0m\u001b[0;34m)\u001b[0m\u001b[0;34m\u001b[0m\u001b[0;34m\u001b[0m\u001b[0m\n\u001b[0m\u001b[1;32m      2\u001b[0m \u001b[0mplot_roc\u001b[0m\u001b[0;34m(\u001b[0m\u001b[0;34m\"Test Baseline\"\u001b[0m\u001b[0;34m,\u001b[0m \u001b[0my_test\u001b[0m\u001b[0;34m,\u001b[0m \u001b[0mpredictions\u001b[0m\u001b[0;34m,\u001b[0m \u001b[0mcolor\u001b[0m\u001b[0;34m=\u001b[0m\u001b[0mcolors\u001b[0m\u001b[0;34m[\u001b[0m\u001b[0;36m0\u001b[0m\u001b[0;34m]\u001b[0m\u001b[0;34m,\u001b[0m \u001b[0mlinestyle\u001b[0m\u001b[0;34m=\u001b[0m\u001b[0;34m'--'\u001b[0m\u001b[0;34m)\u001b[0m\u001b[0;34m\u001b[0m\u001b[0;34m\u001b[0m\u001b[0m\n\u001b[1;32m      3\u001b[0m \u001b[0mplt\u001b[0m\u001b[0;34m.\u001b[0m\u001b[0mlegend\u001b[0m\u001b[0;34m(\u001b[0m\u001b[0mloc\u001b[0m\u001b[0;34m=\u001b[0m\u001b[0;34m'lower right'\u001b[0m\u001b[0;34m)\u001b[0m\u001b[0;34m\u001b[0m\u001b[0;34m\u001b[0m\u001b[0m\n",
      "\u001b[0;31mNameError\u001b[0m: name 'y_train' is not defined"
     ]
    }
   ],
   "source": [
    "plot_roc(\"Train Baseline\", y_train, train_predictions)\n",
    "plot_roc(\"Test Baseline\", y_test, predictions, color=colors[0], linestyle='--')\n",
    "plt.legend(loc='lower right')"
   ]
  },
  {
   "cell_type": "code",
   "execution_count": 38,
   "metadata": {},
   "outputs": [
    {
     "data": {
      "image/png": "[encoded data removed]",
      "text/plain": [
       "<Figure size 432x288 with 1 Axes>"
      ]
     },
     "metadata": {
      "needs_background": "light"
     },
     "output_type": "display_data"
    }
   ],
   "source": [
    "from sklearn.metrics import roc_curve, auc, roc_auc_score\n",
    "from sklearn.preprocessing  import label_binarize\n",
    "# from scipy import interp\n",
    "\n",
    "n_classes = len(CLASSES)\n",
    "\n",
    "# Binarize the output \n",
    "true_labels_l_b = label_binarize(y_test, classes=range(n_classes))\n",
    "# Y_pred_b = label_binarize(Y_pred, classes=CLASSES)\n",
    "Y_pred_b = label_binarize(predictions, classes=range(n_classes))\n",
    "\n",
    "# Compute ROC curve and ROC area for each class\n",
    "fpr = dict()\n",
    "tpr = dict()\n",
    "roc_auc = dict()\n",
    "for i in range(n_classes):\n",
    "    fpr[i], tpr[i], _ = roc_curve(true_labels_l_b[:,i], Y_pred_b[:, i])\n",
    "    roc_auc[i] = auc(fpr[i], tpr[i])\n",
    "\n",
    "# Compute micro-average ROC curve and ROC area\n",
    "fpr[\"micro\"], tpr[\"micro\"], _ = roc_curve(true_labels_l_b.ravel(), Y_pred_b.ravel())\n",
    "roc_auc[\"micro\"] = auc(fpr[\"micro\"], tpr[\"micro\"])\n",
    "\n",
    "\n",
    "\n",
    "#Plot of a ROC curve for a specific class\n",
    "\n",
    "plt.figure()\n",
    "lw = 2\n",
    "plt.plot(fpr[2], tpr[2], color='darkorange',\n",
    "         lw=lw, label='ROC curve (area = %0.2f)' % roc_auc[2])\n",
    "plt.plot([0, 1], [0, 1], color='navy', lw=lw, linestyle='--')\n",
    "plt.xlim([0.0, 1.0])\n",
    "plt.ylim([0.0, 1.05])\n",
    "plt.xlabel('False Positive Rate')\n",
    "plt.ylabel('True Positive Rate')\n",
    "plt.title('Receiver operating characteristic example')\n",
    "plt.legend(loc=\"lower right\")\n",
    "plt.show()"
   ]
  },
  {
   "cell_type": "code",
   "execution_count": 39,
   "metadata": {},
   "outputs": [
    {
     "data": {
      "image/png": "[encoded data removed]",
      "text/plain": [
       "<Figure size 720x720 with 1 Axes>"
      ]
     },
     "metadata": {
      "needs_background": "light"
     },
     "output_type": "display_data"
    }
   ],
   "source": [
    "import itertools\n",
    "\n",
    "target_names = ['(CBB)','Brown Streak Disease (CBSD) ','Green Mottle (CGM) ','Mosaic Disease (CMD) ','Healthy ']\n",
    "\n",
    "# First aggregate all false positive rates\n",
    "all_fpr = np.unique(np.concatenate([fpr[i] for i in range(n_classes)]))\n",
    "\n",
    "# Then interpolate all ROC curves at this points\n",
    "mean_tpr = np.zeros_like(all_fpr)\n",
    "for i in range(n_classes):\n",
    "    mean_tpr += np.interp(all_fpr, fpr[i], tpr[i])\n",
    "\n",
    "# Finally average it and compute AUC\n",
    "mean_tpr /= n_classes\n",
    "\n",
    "fpr[\"macro\"] = all_fpr\n",
    "tpr[\"macro\"] = mean_tpr\n",
    "roc_auc[\"macro\"] = auc(fpr[\"macro\"], tpr[\"macro\"])\n",
    "\n",
    "# Plot all ROC curves\n",
    "plt.figure(figsize = (10,10))\n",
    "\n",
    "plt.plot(fpr[\"micro\"], tpr[\"micro\"],\n",
    "         label='micro-average ROC curve (area = {0:0.2f})'\n",
    "               ''.format(roc_auc[\"micro\"]),\n",
    "         color='deeppink', linestyle=':', linewidth=4)\n",
    "\n",
    "plt.plot(fpr[\"macro\"], tpr[\"macro\"],\n",
    "         label='macro-average ROC curve (area = {0:0.2f})'\n",
    "               ''.format(roc_auc[\"macro\"]),\n",
    "         color='navy', linestyle=':', linewidth=4)\n",
    "\n",
    "colors = itertools.cycle(['aqua', 'darkorange', 'cornflowerblue'])\n",
    "for i, color in zip(range(n_classes), colors):\n",
    "    plt.plot(fpr[i], tpr[i], color=color, lw=lw,\n",
    "             label='ROC curve of class {0} (area = {1:0.2f})'\n",
    "             ''.format(target_names[i], roc_auc[i]))\n",
    "\n",
    "plt.plot([0, 1], [0, 1], 'k--', lw=lw)\n",
    "plt.xlim([0.0, 1.0])\n",
    "plt.ylim([0.0, 1.05])\n",
    "plt.xlabel('False Positive Rate')\n",
    "plt.ylabel('True Positive Rate')\n",
    "plt.title('Some extension of Receiver operating characteristic to multi-class')\n",
    "plt.legend(loc=\"lower right\")\n",
    "plt.show()"
   ]
  },
  {
   "cell_type": "code",
   "execution_count": null,
   "metadata": {},
   "outputs": [],
   "source": []
  }
 ],
 "metadata": {
  "kernelspec": {
   "display_name": "Python 3",
   "language": "python",
   "name": "python3"
  },
  "language_info": {
   "codemirror_mode": {
    "name": "ipython",
    "version": 3
   },
   "file_extension": ".py",
   "mimetype": "text/x-python",
   "name": "python",
   "nbconvert_exporter": "python",
   "pygments_lexer": "ipython3",
   "version": "3.6.9"
  }
 },
 "nbformat": 4,
 "nbformat_minor": 4
}
